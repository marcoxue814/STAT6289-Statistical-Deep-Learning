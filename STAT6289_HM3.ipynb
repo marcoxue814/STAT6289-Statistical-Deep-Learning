{
  "nbformat": 4,
  "nbformat_minor": 0,
  "metadata": {
    "colab": {
      "name": "STAT6289 HM3.ipynb",
      "provenance": [],
      "collapsed_sections": [
        "2j17Y7jttuh6",
        "gm1-uyE9L6Xr",
        "dzrHdOFzbQuU"
      ]
    },
    "kernelspec": {
      "name": "python3",
      "display_name": "Python 3"
    }
  },
  "cells": [
    {
      "cell_type": "markdown",
      "metadata": {
        "id": "rluad4u-tO1w"
      },
      "source": [
        "# STAT6289 Statistical Deep Learning Homework 3"
      ]
    },
    {
      "cell_type": "markdown",
      "metadata": {
        "id": "7f-dcHZLtfFo"
      },
      "source": [
        "We try to predict stock price of Tesla using LSTM model."
      ]
    },
    {
      "cell_type": "markdown",
      "metadata": {
        "id": "2j17Y7jttuh6"
      },
      "source": [
        "## 1. Load the data and inspect them"
      ]
    },
    {
      "cell_type": "code",
      "metadata": {
        "id": "mUNvphVAv0r_"
      },
      "source": [
        "import math\n",
        "import matplotlib.pyplot as plt\n",
        "import keras\n",
        "import pandas as pd\n",
        "import numpy as np\n",
        "from keras.models import Sequential\n",
        "from keras.layers import Dense\n",
        "from keras.layers import LSTM\n",
        "from keras.layers import Dropout\n",
        "from keras.layers import *\n",
        "from sklearn.preprocessing import MinMaxScaler\n",
        "from sklearn.metrics import mean_squared_error\n",
        "from sklearn.metrics import mean_absolute_error\n",
        "from sklearn.model_selection import train_test_split\n",
        "from keras.callbacks import EarlyStopping"
      ],
      "execution_count": 1,
      "outputs": []
    },
    {
      "cell_type": "code",
      "metadata": {
        "id": "px_8mHwEwAvT",
        "outputId": "89820fdf-f61f-4fc2-8d0e-86c06594c4a0",
        "colab": {
          "base_uri": "https://localhost:8080/",
          "height": 221
        }
      },
      "source": [
        "df=pd.read_csv(\"TSLA.csv\")\n",
        "print(\"Number of rows and columns:\", df.shape)\n",
        "df.head(5)"
      ],
      "execution_count": 2,
      "outputs": [
        {
          "output_type": "stream",
          "text": [
            "Number of rows and columns: (1328, 7)\n"
          ],
          "name": "stdout"
        },
        {
          "output_type": "execute_result",
          "data": {
            "text/html": [
              "<div>\n",
              "<style scoped>\n",
              "    .dataframe tbody tr th:only-of-type {\n",
              "        vertical-align: middle;\n",
              "    }\n",
              "\n",
              "    .dataframe tbody tr th {\n",
              "        vertical-align: top;\n",
              "    }\n",
              "\n",
              "    .dataframe thead th {\n",
              "        text-align: right;\n",
              "    }\n",
              "</style>\n",
              "<table border=\"1\" class=\"dataframe\">\n",
              "  <thead>\n",
              "    <tr style=\"text-align: right;\">\n",
              "      <th></th>\n",
              "      <th>Date</th>\n",
              "      <th>Open</th>\n",
              "      <th>High</th>\n",
              "      <th>Low</th>\n",
              "      <th>Close</th>\n",
              "      <th>Adj Close</th>\n",
              "      <th>Volume</th>\n",
              "    </tr>\n",
              "  </thead>\n",
              "  <tbody>\n",
              "    <tr>\n",
              "      <th>0</th>\n",
              "      <td>2015-07-09</td>\n",
              "      <td>51.816002</td>\n",
              "      <td>52.590000</td>\n",
              "      <td>51.358002</td>\n",
              "      <td>51.584000</td>\n",
              "      <td>51.584000</td>\n",
              "      <td>16670500</td>\n",
              "    </tr>\n",
              "    <tr>\n",
              "      <th>1</th>\n",
              "      <td>2015-07-10</td>\n",
              "      <td>52.444000</td>\n",
              "      <td>52.599998</td>\n",
              "      <td>51.563999</td>\n",
              "      <td>51.830002</td>\n",
              "      <td>51.830002</td>\n",
              "      <td>13054500</td>\n",
              "    </tr>\n",
              "    <tr>\n",
              "      <th>2</th>\n",
              "      <td>2015-07-13</td>\n",
              "      <td>52.450001</td>\n",
              "      <td>52.509998</td>\n",
              "      <td>51.209999</td>\n",
              "      <td>52.431999</td>\n",
              "      <td>52.431999</td>\n",
              "      <td>14801500</td>\n",
              "    </tr>\n",
              "    <tr>\n",
              "      <th>3</th>\n",
              "      <td>2015-07-14</td>\n",
              "      <td>52.419998</td>\n",
              "      <td>53.198002</td>\n",
              "      <td>52.102001</td>\n",
              "      <td>53.130001</td>\n",
              "      <td>53.130001</td>\n",
              "      <td>9538000</td>\n",
              "    </tr>\n",
              "    <tr>\n",
              "      <th>4</th>\n",
              "      <td>2015-07-15</td>\n",
              "      <td>53.348000</td>\n",
              "      <td>53.498001</td>\n",
              "      <td>52.416000</td>\n",
              "      <td>52.627998</td>\n",
              "      <td>52.627998</td>\n",
              "      <td>10108000</td>\n",
              "    </tr>\n",
              "  </tbody>\n",
              "</table>\n",
              "</div>"
            ],
            "text/plain": [
              "         Date       Open       High        Low      Close  Adj Close    Volume\n",
              "0  2015-07-09  51.816002  52.590000  51.358002  51.584000  51.584000  16670500\n",
              "1  2015-07-10  52.444000  52.599998  51.563999  51.830002  51.830002  13054500\n",
              "2  2015-07-13  52.450001  52.509998  51.209999  52.431999  52.431999  14801500\n",
              "3  2015-07-14  52.419998  53.198002  52.102001  53.130001  53.130001   9538000\n",
              "4  2015-07-15  53.348000  53.498001  52.416000  52.627998  52.627998  10108000"
            ]
          },
          "metadata": {
            "tags": []
          },
          "execution_count": 2
        }
      ]
    },
    {
      "cell_type": "markdown",
      "metadata": {
        "id": "LrYVsIZexPUd"
      },
      "source": [
        "## 2. Split the data into training and test sets"
      ]
    },
    {
      "cell_type": "markdown",
      "metadata": {
        "id": "Vz9H8iCexYov"
      },
      "source": [
        "Since there are 1328 observations in the dataset, the first 1000 observations in the dataset will be considered as the training dataset and the rest will be the test dataset."
      ]
    },
    {
      "cell_type": "code",
      "metadata": {
        "id": "zwXeF_B9xCqB"
      },
      "source": [
        "training_set = df.iloc[:1000, 1:2].values\n",
        "test_set = df.iloc[1000:, 1:2].values"
      ],
      "execution_count": 3,
      "outputs": []
    },
    {
      "cell_type": "markdown",
      "metadata": {
        "id": "DwM01mm1E9AF"
      },
      "source": [
        "## 3. Build the input features with different time lags"
      ]
    },
    {
      "cell_type": "markdown",
      "metadata": {
        "id": "Ln5d_KyU0LFT"
      },
      "source": [
        "### (1) Input features with time window of 60"
      ]
    },
    {
      "cell_type": "code",
      "metadata": {
        "id": "d0lKtxrnFEtS"
      },
      "source": [
        "# Feature Scaling\n",
        "sc = MinMaxScaler(feature_range = (0, 1))\n",
        "training_set_scaled = sc.fit_transform(training_set)\n",
        "\n",
        "# Creating a data structure with 60 time-steps and 1 output\n",
        "X_train = []\n",
        "y_train = []\n",
        "for i in range(60, 1000):\n",
        "    X_train.append(training_set_scaled[i-60:i, 0])\n",
        "    y_train.append(training_set_scaled[i, 0])\n",
        "X_train, y_train = np.array(X_train), np.array(y_train)\n",
        "X_train = np.reshape(X_train, (X_train.shape[0], X_train.shape[1], 1))\n",
        "#(940, 60, 1)\n",
        "print(X_train.shape)"
      ],
      "execution_count": 5,
      "outputs": []
    },
    {
      "cell_type": "markdown",
      "metadata": {
        "id": "GmaTyy740ToT"
      },
      "source": [
        "### (2) Input festure with time window of 50"
      ]
    },
    {
      "cell_type": "code",
      "metadata": {
        "id": "bxIjC77z0RBr"
      },
      "source": [
        "# X_train = []\n",
        "# y_train = []\n",
        "# for i in range(60, 800):\n",
        "#     X_train.append(training_set_scaled[i-50:i, 0])\n",
        "#     y_train.append(training_set_scaled[i, 0])\n",
        "# X_train, y_train = np.array(X_train), np.array(y_train)\n",
        "# X_train = np.reshape(X_train, (X_train.shape[0], X_train.shape[1], 1))\n",
        "\n",
        "\n",
        "# X_test = []\n",
        "# y_test = []\n",
        "# for i in range(60, 519):\n",
        "#     X_test.append(inputs[i-50:i, 0])\n",
        "# X_test = np.array(X_test)\n",
        "# X_test = np.reshape(X_test, (X_test.shape[0], X_test.shape[1], 1))\n"
      ],
      "execution_count": null,
      "outputs": []
    },
    {
      "cell_type": "markdown",
      "metadata": {
        "id": "wbs5b7JoFqfa"
      },
      "source": [
        "## 4. Build the LSTM model"
      ]
    },
    {
      "cell_type": "markdown",
      "metadata": {
        "id": "_GHVMTA7G6Uo"
      },
      "source": [
        "### (1) The first LSTM model is the one with 50 neurons and 4 hidden layers. We will use the MSE loss function and the Adam stochastic gradient descent optimizer."
      ]
    },
    {
      "cell_type": "code",
      "metadata": {
        "id": "G-Pk0cojFuId"
      },
      "source": [
        "model1 = Sequential()\n",
        "\n",
        "#Adding the first LSTM layer and some Dropout regularisation\n",
        "model1.add(LSTM(units = 50, return_sequences = True, input_shape = (X_train.shape[1], 1)))\n",
        "model1.add(Dropout(0.2))\n",
        "\n",
        "# Adding a second LSTM layer and some Dropout regularisation\n",
        "model1.add(LSTM(units = 50, return_sequences = True))\n",
        "model1.add(Dropout(0.2))\n",
        "\n",
        "# Adding a third LSTM layer and some Dropout regularisation\n",
        "model1.add(LSTM(units = 50, return_sequences = True))\n",
        "model1.add(Dropout(0.2))\n",
        "\n",
        "# Adding a fourth LSTM layer and some Dropout regularisation\n",
        "model1.add(LSTM(units = 50))\n",
        "model1.add(Dropout(0.2))\n",
        "\n",
        "# Adding the output layer\n",
        "model1.add(Dense(units = 1))\n",
        "\n",
        "# Compiling the RNN\n",
        "model1.compile(optimizer = 'adam', loss = 'mean_squared_error')\n"
      ],
      "execution_count": 7,
      "outputs": []
    },
    {
      "cell_type": "code",
      "metadata": {
        "id": "szYDbLucHZ6Q",
        "outputId": "f591ef64-3663-4e14-9ebf-eff74c0ce15c",
        "colab": {
          "base_uri": "https://localhost:8080/",
          "height": 1000
        }
      },
      "source": [
        "# Fitting the RNN to the Training set\n",
        "model1.fit(X_train, y_train, epochs = 100, batch_size = 32)"
      ],
      "execution_count": 8,
      "outputs": [
        {
          "output_type": "stream",
          "text": [
            "Epoch 1/100\n",
            "30/30 [==============================] - 3s 92ms/step - loss: 0.0567\n",
            "Epoch 2/100\n",
            "30/30 [==============================] - 3s 96ms/step - loss: 0.0159\n",
            "Epoch 3/100\n",
            "30/30 [==============================] - 3s 96ms/step - loss: 0.0138\n",
            "Epoch 4/100\n",
            "30/30 [==============================] - 3s 99ms/step - loss: 0.0170\n",
            "Epoch 5/100\n",
            "30/30 [==============================] - 3s 98ms/step - loss: 0.0137\n",
            "Epoch 6/100\n",
            "30/30 [==============================] - 3s 98ms/step - loss: 0.0118\n",
            "Epoch 7/100\n",
            "30/30 [==============================] - 3s 96ms/step - loss: 0.0110\n",
            "Epoch 8/100\n",
            "30/30 [==============================] - 3s 99ms/step - loss: 0.0109\n",
            "Epoch 9/100\n",
            "30/30 [==============================] - 3s 97ms/step - loss: 0.0101\n",
            "Epoch 10/100\n",
            "30/30 [==============================] - 3s 98ms/step - loss: 0.0107\n",
            "Epoch 11/100\n",
            "30/30 [==============================] - 3s 98ms/step - loss: 0.0095\n",
            "Epoch 12/100\n",
            "30/30 [==============================] - 3s 97ms/step - loss: 0.0088\n",
            "Epoch 13/100\n",
            "30/30 [==============================] - 3s 97ms/step - loss: 0.0093\n",
            "Epoch 14/100\n",
            "30/30 [==============================] - 3s 98ms/step - loss: 0.0086\n",
            "Epoch 15/100\n",
            "30/30 [==============================] - 3s 100ms/step - loss: 0.0092\n",
            "Epoch 16/100\n",
            "30/30 [==============================] - 3s 98ms/step - loss: 0.0069\n",
            "Epoch 17/100\n",
            "30/30 [==============================] - 3s 99ms/step - loss: 0.0071\n",
            "Epoch 18/100\n",
            "30/30 [==============================] - 3s 99ms/step - loss: 0.0072\n",
            "Epoch 19/100\n",
            "30/30 [==============================] - 3s 98ms/step - loss: 0.0064\n",
            "Epoch 20/100\n",
            "30/30 [==============================] - 3s 98ms/step - loss: 0.0057\n",
            "Epoch 21/100\n",
            "30/30 [==============================] - 3s 97ms/step - loss: 0.0063\n",
            "Epoch 22/100\n",
            "30/30 [==============================] - 3s 100ms/step - loss: 0.0067\n",
            "Epoch 23/100\n",
            "30/30 [==============================] - 3s 99ms/step - loss: 0.0062\n",
            "Epoch 24/100\n",
            "30/30 [==============================] - 3s 98ms/step - loss: 0.0052\n",
            "Epoch 25/100\n",
            "30/30 [==============================] - 3s 97ms/step - loss: 0.0061\n",
            "Epoch 26/100\n",
            "30/30 [==============================] - 3s 96ms/step - loss: 0.0058\n",
            "Epoch 27/100\n",
            "30/30 [==============================] - 3s 98ms/step - loss: 0.0064\n",
            "Epoch 28/100\n",
            "30/30 [==============================] - 3s 99ms/step - loss: 0.0053\n",
            "Epoch 29/100\n",
            "30/30 [==============================] - 3s 99ms/step - loss: 0.0057\n",
            "Epoch 30/100\n",
            "30/30 [==============================] - 3s 98ms/step - loss: 0.0053\n",
            "Epoch 31/100\n",
            "30/30 [==============================] - 3s 102ms/step - loss: 0.0051\n",
            "Epoch 32/100\n",
            "30/30 [==============================] - 3s 99ms/step - loss: 0.0047\n",
            "Epoch 33/100\n",
            "30/30 [==============================] - 3s 99ms/step - loss: 0.0049\n",
            "Epoch 34/100\n",
            "30/30 [==============================] - 3s 101ms/step - loss: 0.0048\n",
            "Epoch 35/100\n",
            "30/30 [==============================] - 3s 100ms/step - loss: 0.0044\n",
            "Epoch 36/100\n",
            "30/30 [==============================] - 3s 99ms/step - loss: 0.0045\n",
            "Epoch 37/100\n",
            "30/30 [==============================] - 3s 99ms/step - loss: 0.0044\n",
            "Epoch 38/100\n",
            "30/30 [==============================] - 3s 97ms/step - loss: 0.0044\n",
            "Epoch 39/100\n",
            "30/30 [==============================] - 3s 100ms/step - loss: 0.0042\n",
            "Epoch 40/100\n",
            "30/30 [==============================] - 3s 100ms/step - loss: 0.0042\n",
            "Epoch 41/100\n",
            "30/30 [==============================] - 3s 99ms/step - loss: 0.0046\n",
            "Epoch 42/100\n",
            "30/30 [==============================] - 3s 98ms/step - loss: 0.0046\n",
            "Epoch 43/100\n",
            "30/30 [==============================] - 3s 100ms/step - loss: 0.0041\n",
            "Epoch 44/100\n",
            "30/30 [==============================] - 3s 98ms/step - loss: 0.0040\n",
            "Epoch 45/100\n",
            "30/30 [==============================] - 3s 98ms/step - loss: 0.0041\n",
            "Epoch 46/100\n",
            "30/30 [==============================] - 3s 99ms/step - loss: 0.0037\n",
            "Epoch 47/100\n",
            "30/30 [==============================] - 3s 101ms/step - loss: 0.0039\n",
            "Epoch 48/100\n",
            "30/30 [==============================] - 3s 98ms/step - loss: 0.0041\n",
            "Epoch 49/100\n",
            "30/30 [==============================] - 3s 98ms/step - loss: 0.0045\n",
            "Epoch 50/100\n",
            "30/30 [==============================] - 3s 98ms/step - loss: 0.0039\n",
            "Epoch 51/100\n",
            "30/30 [==============================] - 3s 99ms/step - loss: 0.0042\n",
            "Epoch 52/100\n",
            "30/30 [==============================] - 3s 98ms/step - loss: 0.0042\n",
            "Epoch 53/100\n",
            "30/30 [==============================] - 3s 99ms/step - loss: 0.0039\n",
            "Epoch 54/100\n",
            "30/30 [==============================] - 3s 98ms/step - loss: 0.0040\n",
            "Epoch 55/100\n",
            "30/30 [==============================] - 3s 99ms/step - loss: 0.0036\n",
            "Epoch 56/100\n",
            "30/30 [==============================] - 3s 99ms/step - loss: 0.0037\n",
            "Epoch 57/100\n",
            "30/30 [==============================] - 3s 99ms/step - loss: 0.0038\n",
            "Epoch 58/100\n",
            "30/30 [==============================] - 3s 98ms/step - loss: 0.0039\n",
            "Epoch 59/100\n",
            "30/30 [==============================] - 3s 99ms/step - loss: 0.0036\n",
            "Epoch 60/100\n",
            "30/30 [==============================] - 3s 100ms/step - loss: 0.0033\n",
            "Epoch 61/100\n",
            "30/30 [==============================] - 3s 99ms/step - loss: 0.0035\n",
            "Epoch 62/100\n",
            "30/30 [==============================] - 3s 98ms/step - loss: 0.0033\n",
            "Epoch 63/100\n",
            "30/30 [==============================] - 3s 98ms/step - loss: 0.0032\n",
            "Epoch 64/100\n",
            "30/30 [==============================] - 3s 98ms/step - loss: 0.0033\n",
            "Epoch 65/100\n",
            "30/30 [==============================] - 3s 99ms/step - loss: 0.0033\n",
            "Epoch 66/100\n",
            "30/30 [==============================] - 3s 98ms/step - loss: 0.0031\n",
            "Epoch 67/100\n",
            "30/30 [==============================] - 3s 100ms/step - loss: 0.0029\n",
            "Epoch 68/100\n",
            "30/30 [==============================] - 3s 99ms/step - loss: 0.0034\n",
            "Epoch 69/100\n",
            "30/30 [==============================] - 3s 98ms/step - loss: 0.0031\n",
            "Epoch 70/100\n",
            "30/30 [==============================] - 3s 99ms/step - loss: 0.0030\n",
            "Epoch 71/100\n",
            "30/30 [==============================] - 3s 100ms/step - loss: 0.0031\n",
            "Epoch 72/100\n",
            "30/30 [==============================] - 3s 99ms/step - loss: 0.0030\n",
            "Epoch 73/100\n",
            "30/30 [==============================] - 3s 100ms/step - loss: 0.0030\n",
            "Epoch 74/100\n",
            "30/30 [==============================] - 3s 97ms/step - loss: 0.0032\n",
            "Epoch 75/100\n",
            "30/30 [==============================] - 3s 98ms/step - loss: 0.0029\n",
            "Epoch 76/100\n",
            "30/30 [==============================] - 3s 99ms/step - loss: 0.0029\n",
            "Epoch 77/100\n",
            "30/30 [==============================] - 3s 99ms/step - loss: 0.0031\n",
            "Epoch 78/100\n",
            "30/30 [==============================] - 3s 100ms/step - loss: 0.0028\n",
            "Epoch 79/100\n",
            "30/30 [==============================] - 3s 99ms/step - loss: 0.0031\n",
            "Epoch 80/100\n",
            "30/30 [==============================] - 3s 99ms/step - loss: 0.0032\n",
            "Epoch 81/100\n",
            "30/30 [==============================] - 3s 100ms/step - loss: 0.0030\n",
            "Epoch 82/100\n",
            "30/30 [==============================] - 3s 98ms/step - loss: 0.0028\n",
            "Epoch 83/100\n",
            "30/30 [==============================] - 3s 98ms/step - loss: 0.0024\n",
            "Epoch 84/100\n",
            "30/30 [==============================] - 3s 101ms/step - loss: 0.0028\n",
            "Epoch 85/100\n",
            "30/30 [==============================] - 3s 98ms/step - loss: 0.0027\n",
            "Epoch 86/100\n",
            "30/30 [==============================] - 3s 99ms/step - loss: 0.0028\n",
            "Epoch 87/100\n",
            "30/30 [==============================] - 3s 100ms/step - loss: 0.0027\n",
            "Epoch 88/100\n",
            "30/30 [==============================] - 3s 98ms/step - loss: 0.0030\n",
            "Epoch 89/100\n",
            "30/30 [==============================] - 3s 100ms/step - loss: 0.0029\n",
            "Epoch 90/100\n",
            "30/30 [==============================] - 3s 99ms/step - loss: 0.0027\n",
            "Epoch 91/100\n",
            "30/30 [==============================] - 3s 99ms/step - loss: 0.0026\n",
            "Epoch 92/100\n",
            "30/30 [==============================] - 3s 98ms/step - loss: 0.0026\n",
            "Epoch 93/100\n",
            "30/30 [==============================] - 3s 99ms/step - loss: 0.0029\n",
            "Epoch 94/100\n",
            "30/30 [==============================] - 3s 100ms/step - loss: 0.0032\n",
            "Epoch 95/100\n",
            "30/30 [==============================] - 3s 98ms/step - loss: 0.0027\n",
            "Epoch 96/100\n",
            "30/30 [==============================] - 3s 98ms/step - loss: 0.0026\n",
            "Epoch 97/100\n",
            "30/30 [==============================] - 3s 99ms/step - loss: 0.0026\n",
            "Epoch 98/100\n",
            "30/30 [==============================] - 3s 100ms/step - loss: 0.0025\n",
            "Epoch 99/100\n",
            "30/30 [==============================] - 3s 98ms/step - loss: 0.0026\n",
            "Epoch 100/100\n",
            "30/30 [==============================] - 3s 101ms/step - loss: 0.0029\n"
          ],
          "name": "stdout"
        },
        {
          "output_type": "execute_result",
          "data": {
            "text/plain": [
              "<tensorflow.python.keras.callbacks.History at 0x7f3be964e860>"
            ]
          },
          "metadata": {
            "tags": []
          },
          "execution_count": 8
        }
      ]
    },
    {
      "cell_type": "markdown",
      "metadata": {
        "id": "ilFUbyx9JRZg"
      },
      "source": [
        "In order to predict future stock prices we need to do a couple of things after loading in the test set:\n",
        "\n",
        "1. Merge the training set and the test set on the 0 axis.\n",
        "2. Set the time step as 60 (as seen previously)\n",
        "3. Use MinMaxScaler to transform the new dataset\n",
        "4. Reshape the dataset as done previously\n",
        "\n",
        "After making the predictions we use inverse_transform to get back the stock prices in normal readable format."
      ]
    },
    {
      "cell_type": "code",
      "metadata": {
        "id": "ZCUiUXlXJQef",
        "outputId": "f661c441-3cf1-41c2-c971-d70589f3e43e",
        "colab": {
          "base_uri": "https://localhost:8080/",
          "height": 34
        }
      },
      "source": [
        "\n",
        "dataset_train = df.iloc[:1000, 1:2]\n",
        "dataset_test = df.iloc[1000:, 1:2]\n",
        "dataset_total = pd.concat((dataset_train, dataset_test), axis = 0)\n",
        "inputs = dataset_total[len(dataset_total) - len(dataset_test) - 60:].values\n",
        "inputs = inputs.reshape(-1,1)\n",
        "inputs = sc.transform(inputs)\n",
        "print(inputs.shape)\n",
        "# (388, 60, 1)"
      ],
      "execution_count": 9,
      "outputs": [
        {
          "output_type": "stream",
          "text": [
            "(388, 1)\n"
          ],
          "name": "stdout"
        }
      ]
    },
    {
      "cell_type": "code",
      "metadata": {
        "id": "Wq-QAYP8J-Nx",
        "outputId": "9cdde915-8949-4099-f45f-ffff4647520d",
        "colab": {
          "base_uri": "https://localhost:8080/",
          "height": 34
        }
      },
      "source": [
        "X_test = []\n",
        "for i in range(60, 388):\n",
        "    X_test.append(inputs[i-60:i, 0])\n",
        "X_test = np.array(X_test)\n",
        "X_test = np.reshape(X_test, (X_test.shape[0], X_test.shape[1], 1))\n",
        "print(X_test.shape)\n",
        "# (328, 60, 1)"
      ],
      "execution_count": 10,
      "outputs": [
        {
          "output_type": "stream",
          "text": [
            "(328, 60, 1)\n"
          ],
          "name": "stdout"
        }
      ]
    },
    {
      "cell_type": "code",
      "metadata": {
        "id": "Y4cm3EPGKRU_"
      },
      "source": [
        "predicted_stock_price_1 = model1.predict(X_test)\n",
        "predicted_stock_price_1 = sc.inverse_transform(predicted_stock_price_1)"
      ],
      "execution_count": 12,
      "outputs": []
    },
    {
      "cell_type": "markdown",
      "metadata": {
        "id": "f1BfSmrqKfDj"
      },
      "source": [
        "Finally, we use Matplotlib to visualize the result of the predicted stock price and the real stock price."
      ]
    },
    {
      "cell_type": "code",
      "metadata": {
        "id": "uexh-1r4Kk-O",
        "outputId": "cbbf181d-6b45-4524-d58a-bd519ff3c7d3",
        "colab": {
          "base_uri": "https://localhost:8080/",
          "height": 334
        }
      },
      "source": [
        "# Visualising the results\n",
        "plt.plot(df.loc[1000:, 'Date'],dataset_test.values, color = 'red', label = \"Real TESLA Stock Price\")\n",
        "plt.plot(df.loc[1000:, 'Date'],predicted_stock_price_1, color = 'blue', label = \"Predicted TESLA Stock Price\")\n",
        "plt.xticks(np.arange(0,328,50))\n",
        "plt.title('TESLA Stock Price Prediction')\n",
        "plt.xlabel('Time')\n",
        "plt.ylabel('TESLA Stock Price')\n",
        "plt.xticks(rotation=45)\n",
        "plt.legend()\n",
        "plt.show()"
      ],
      "execution_count": 16,
      "outputs": [
        {
          "output_type": "display_data",
          "data": {
            "image/png": "[encoded data removed]",
            "text/plain": [
              "<Figure size 432x288 with 1 Axes>"
            ]
          },
          "metadata": {
            "tags": [],
            "needs_background": "light"
          }
        }
      ]
    },
    {
      "cell_type": "markdown",
      "metadata": {
        "id": "gm1-uyE9L6Xr"
      },
      "source": [
        "### (2) The second LSTM model is the one with 50 neurons and 6 hidden layers. We will use the MSE loss function and the Adam stochastic gradient descent optimizer."
      ]
    },
    {
      "cell_type": "code",
      "metadata": {
        "id": "ZVEUJA2BMJ1c"
      },
      "source": [
        "model2 = Sequential()\n",
        "\n",
        "#Adding the first LSTM layer and some Dropout regularisation\n",
        "model2.add(LSTM(units = 50, return_sequences = True, input_shape = (X_train.shape[1], 1)))\n",
        "model2.add(Dropout(0.2))\n",
        "\n",
        "# Adding a second LSTM layer and some Dropout regularisation\n",
        "model2.add(LSTM(units = 50, return_sequences = True))\n",
        "model2.add(Dropout(0.2))\n",
        "\n",
        "# Adding a third LSTM layer and some Dropout regularisation\n",
        "model2.add(LSTM(units = 50, return_sequences = True))\n",
        "model2.add(Dropout(0.2))\n",
        "\n",
        "# Adding a third LSTM layer and some Dropout regularisation\n",
        "model2.add(LSTM(units = 50, return_sequences = True))\n",
        "model2.add(Dropout(0.2))\n",
        "\n",
        "# Adding a third LSTM layer and some Dropout regularisation\n",
        "model2.add(LSTM(units = 50, return_sequences = True))\n",
        "model2.add(Dropout(0.2))\n",
        "\n",
        "# Adding a fourth LSTM layer and some Dropout regularisation\n",
        "model2.add(LSTM(units = 50))\n",
        "model2.add(Dropout(0.2))\n",
        "\n",
        "# Adding the output layer\n",
        "model2.add(Dense(units = 1))\n",
        "\n",
        "# Compiling the RNN\n",
        "model2.compile(optimizer = 'adam', loss = 'mean_squared_error')"
      ],
      "execution_count": 18,
      "outputs": []
    },
    {
      "cell_type": "code",
      "metadata": {
        "id": "DhgQRUjxMg9v",
        "outputId": "2323b83a-df8b-444d-863c-6276e26b0fd5",
        "colab": {
          "base_uri": "https://localhost:8080/",
          "height": 1000
        }
      },
      "source": [
        "# Fitting the RNN to the Training set\n",
        "model2.fit(X_train, y_train, epochs = 100, batch_size = 32)"
      ],
      "execution_count": 19,
      "outputs": [
        {
          "output_type": "stream",
          "text": [
            "Epoch 1/100\n",
            "30/30 [==============================] - 4s 144ms/step - loss: 0.0704\n",
            "Epoch 2/100\n",
            "30/30 [==============================] - 5s 159ms/step - loss: 0.0193\n",
            "Epoch 3/100\n",
            "30/30 [==============================] - 5s 159ms/step - loss: 0.0168\n",
            "Epoch 4/100\n",
            "30/30 [==============================] - 5s 159ms/step - loss: 0.0171\n",
            "Epoch 5/100\n",
            "30/30 [==============================] - 5s 159ms/step - loss: 0.0156\n",
            "Epoch 6/100\n",
            "30/30 [==============================] - 5s 160ms/step - loss: 0.0155\n",
            "Epoch 7/100\n",
            "30/30 [==============================] - 5s 158ms/step - loss: 0.0144\n",
            "Epoch 8/100\n",
            "30/30 [==============================] - 5s 158ms/step - loss: 0.0138\n",
            "Epoch 9/100\n",
            "30/30 [==============================] - 5s 159ms/step - loss: 0.0123\n",
            "Epoch 10/100\n",
            "30/30 [==============================] - 5s 157ms/step - loss: 0.0126\n",
            "Epoch 11/100\n",
            "30/30 [==============================] - 5s 159ms/step - loss: 0.0123\n",
            "Epoch 12/100\n",
            "30/30 [==============================] - 5s 159ms/step - loss: 0.0116\n",
            "Epoch 13/100\n",
            "30/30 [==============================] - 5s 160ms/step - loss: 0.0107\n",
            "Epoch 14/100\n",
            "30/30 [==============================] - 4s 148ms/step - loss: 0.0113\n",
            "Epoch 15/100\n",
            "30/30 [==============================] - 4s 148ms/step - loss: 0.0135\n",
            "Epoch 16/100\n",
            "30/30 [==============================] - 4s 148ms/step - loss: 0.0092\n",
            "Epoch 17/100\n",
            "30/30 [==============================] - 4s 150ms/step - loss: 0.0093\n",
            "Epoch 18/100\n",
            "30/30 [==============================] - 5s 152ms/step - loss: 0.0088\n",
            "Epoch 19/100\n",
            "30/30 [==============================] - 4s 150ms/step - loss: 0.0099\n",
            "Epoch 20/100\n",
            "30/30 [==============================] - 4s 148ms/step - loss: 0.0085\n",
            "Epoch 21/100\n",
            "30/30 [==============================] - 5s 151ms/step - loss: 0.0084\n",
            "Epoch 22/100\n",
            "30/30 [==============================] - 4s 149ms/step - loss: 0.0085\n",
            "Epoch 23/100\n",
            "30/30 [==============================] - 4s 149ms/step - loss: 0.0077\n",
            "Epoch 24/100\n",
            "30/30 [==============================] - 4s 150ms/step - loss: 0.0072\n",
            "Epoch 25/100\n",
            "30/30 [==============================] - 5s 150ms/step - loss: 0.0072\n",
            "Epoch 26/100\n",
            "30/30 [==============================] - 5s 152ms/step - loss: 0.0080\n",
            "Epoch 27/100\n",
            "30/30 [==============================] - 4s 150ms/step - loss: 0.0065\n",
            "Epoch 28/100\n",
            "30/30 [==============================] - 5s 151ms/step - loss: 0.0065\n",
            "Epoch 29/100\n",
            "30/30 [==============================] - 5s 151ms/step - loss: 0.0060\n",
            "Epoch 30/100\n",
            "30/30 [==============================] - 4s 150ms/step - loss: 0.0069\n",
            "Epoch 31/100\n",
            "30/30 [==============================] - 5s 150ms/step - loss: 0.0060\n",
            "Epoch 32/100\n",
            "30/30 [==============================] - 5s 152ms/step - loss: 0.0063\n",
            "Epoch 33/100\n",
            "30/30 [==============================] - 5s 150ms/step - loss: 0.0059\n",
            "Epoch 34/100\n",
            "30/30 [==============================] - 5s 150ms/step - loss: 0.0056\n",
            "Epoch 35/100\n",
            "30/30 [==============================] - 5s 152ms/step - loss: 0.0053\n",
            "Epoch 36/100\n",
            "30/30 [==============================] - 4s 149ms/step - loss: 0.0056\n",
            "Epoch 37/100\n",
            "30/30 [==============================] - 5s 152ms/step - loss: 0.0057\n",
            "Epoch 38/100\n",
            "30/30 [==============================] - 4s 149ms/step - loss: 0.0054\n",
            "Epoch 39/100\n",
            "30/30 [==============================] - 5s 152ms/step - loss: 0.0051\n",
            "Epoch 40/100\n",
            "30/30 [==============================] - 5s 151ms/step - loss: 0.0051\n",
            "Epoch 41/100\n",
            "30/30 [==============================] - 5s 152ms/step - loss: 0.0049\n",
            "Epoch 42/100\n",
            "30/30 [==============================] - 4s 150ms/step - loss: 0.0046\n",
            "Epoch 43/100\n",
            "30/30 [==============================] - 5s 152ms/step - loss: 0.0054\n",
            "Epoch 44/100\n",
            "30/30 [==============================] - 5s 150ms/step - loss: 0.0057\n",
            "Epoch 45/100\n",
            "30/30 [==============================] - 5s 150ms/step - loss: 0.0051\n",
            "Epoch 46/100\n",
            "30/30 [==============================] - 5s 152ms/step - loss: 0.0046\n",
            "Epoch 47/100\n",
            "30/30 [==============================] - 4s 149ms/step - loss: 0.0052\n",
            "Epoch 48/100\n",
            "30/30 [==============================] - 4s 150ms/step - loss: 0.0043\n",
            "Epoch 49/100\n",
            "30/30 [==============================] - 4s 150ms/step - loss: 0.0044\n",
            "Epoch 50/100\n",
            "30/30 [==============================] - 5s 151ms/step - loss: 0.0049\n",
            "Epoch 51/100\n",
            "30/30 [==============================] - 5s 151ms/step - loss: 0.0044\n",
            "Epoch 52/100\n",
            "30/30 [==============================] - 5s 150ms/step - loss: 0.0048\n",
            "Epoch 53/100\n",
            "30/30 [==============================] - 5s 151ms/step - loss: 0.0044\n",
            "Epoch 54/100\n",
            "30/30 [==============================] - 5s 151ms/step - loss: 0.0047\n",
            "Epoch 55/100\n",
            "30/30 [==============================] - 4s 149ms/step - loss: 0.0044\n",
            "Epoch 56/100\n",
            "30/30 [==============================] - 5s 153ms/step - loss: 0.0045\n",
            "Epoch 57/100\n",
            "30/30 [==============================] - 5s 151ms/step - loss: 0.0040\n",
            "Epoch 58/100\n",
            "30/30 [==============================] - 5s 151ms/step - loss: 0.0039\n",
            "Epoch 59/100\n",
            "30/30 [==============================] - 5s 151ms/step - loss: 0.0038\n",
            "Epoch 60/100\n",
            "30/30 [==============================] - 5s 151ms/step - loss: 0.0042\n",
            "Epoch 61/100\n",
            "30/30 [==============================] - 5s 151ms/step - loss: 0.0042\n",
            "Epoch 62/100\n",
            "30/30 [==============================] - 5s 152ms/step - loss: 0.0038\n",
            "Epoch 63/100\n",
            "30/30 [==============================] - 5s 152ms/step - loss: 0.0040\n",
            "Epoch 64/100\n",
            "30/30 [==============================] - 5s 152ms/step - loss: 0.0041\n",
            "Epoch 65/100\n",
            "30/30 [==============================] - 5s 151ms/step - loss: 0.0039\n",
            "Epoch 66/100\n",
            "30/30 [==============================] - 5s 152ms/step - loss: 0.0038\n",
            "Epoch 67/100\n",
            "30/30 [==============================] - 4s 150ms/step - loss: 0.0037\n",
            "Epoch 68/100\n",
            "30/30 [==============================] - 7s 220ms/step - loss: 0.0036\n",
            "Epoch 69/100\n",
            "30/30 [==============================] - 5s 173ms/step - loss: 0.0037\n",
            "Epoch 70/100\n",
            "30/30 [==============================] - 4s 148ms/step - loss: 0.0036\n",
            "Epoch 71/100\n",
            "30/30 [==============================] - 4s 150ms/step - loss: 0.0041\n",
            "Epoch 72/100\n",
            "30/30 [==============================] - 5s 151ms/step - loss: 0.0042\n",
            "Epoch 73/100\n",
            "30/30 [==============================] - 5s 150ms/step - loss: 0.0037\n",
            "Epoch 74/100\n",
            "30/30 [==============================] - 5s 152ms/step - loss: 0.0037\n",
            "Epoch 75/100\n",
            "30/30 [==============================] - 5s 150ms/step - loss: 0.0035\n",
            "Epoch 76/100\n",
            "30/30 [==============================] - 4s 149ms/step - loss: 0.0035\n",
            "Epoch 77/100\n",
            "30/30 [==============================] - 5s 152ms/step - loss: 0.0037\n",
            "Epoch 78/100\n",
            "30/30 [==============================] - 5s 155ms/step - loss: 0.0036\n",
            "Epoch 79/100\n",
            "30/30 [==============================] - 5s 156ms/step - loss: 0.0035\n",
            "Epoch 80/100\n",
            "30/30 [==============================] - 5s 154ms/step - loss: 0.0034\n",
            "Epoch 81/100\n",
            "30/30 [==============================] - 5s 156ms/step - loss: 0.0034\n",
            "Epoch 82/100\n",
            "30/30 [==============================] - 5s 156ms/step - loss: 0.0032\n",
            "Epoch 83/100\n",
            "30/30 [==============================] - 5s 156ms/step - loss: 0.0033\n",
            "Epoch 84/100\n",
            "30/30 [==============================] - 5s 157ms/step - loss: 0.0035\n",
            "Epoch 85/100\n",
            "30/30 [==============================] - 5s 156ms/step - loss: 0.0033\n",
            "Epoch 86/100\n",
            "30/30 [==============================] - 5s 157ms/step - loss: 0.0032\n",
            "Epoch 87/100\n",
            "30/30 [==============================] - 5s 155ms/step - loss: 0.0036\n",
            "Epoch 88/100\n",
            "30/30 [==============================] - 5s 155ms/step - loss: 0.0036\n",
            "Epoch 89/100\n",
            "30/30 [==============================] - 5s 158ms/step - loss: 0.0034\n",
            "Epoch 90/100\n",
            "30/30 [==============================] - 5s 155ms/step - loss: 0.0032\n",
            "Epoch 91/100\n",
            "30/30 [==============================] - 5s 155ms/step - loss: 0.0033\n",
            "Epoch 92/100\n",
            "30/30 [==============================] - 5s 154ms/step - loss: 0.0035\n",
            "Epoch 93/100\n",
            "30/30 [==============================] - 5s 155ms/step - loss: 0.0028\n",
            "Epoch 94/100\n",
            "30/30 [==============================] - 5s 156ms/step - loss: 0.0031\n",
            "Epoch 95/100\n",
            "30/30 [==============================] - 5s 158ms/step - loss: 0.0029\n",
            "Epoch 96/100\n",
            "30/30 [==============================] - 5s 156ms/step - loss: 0.0029\n",
            "Epoch 97/100\n",
            "30/30 [==============================] - 5s 153ms/step - loss: 0.0027\n",
            "Epoch 98/100\n",
            "30/30 [==============================] - 5s 151ms/step - loss: 0.0034\n",
            "Epoch 99/100\n",
            "30/30 [==============================] - 4s 149ms/step - loss: 0.0029\n",
            "Epoch 100/100\n",
            "30/30 [==============================] - 5s 151ms/step - loss: 0.0029\n"
          ],
          "name": "stdout"
        },
        {
          "output_type": "execute_result",
          "data": {
            "text/plain": [
              "<tensorflow.python.keras.callbacks.History at 0x7f3be4e60668>"
            ]
          },
          "metadata": {
            "tags": []
          },
          "execution_count": 19
        }
      ]
    },
    {
      "cell_type": "code",
      "metadata": {
        "id": "4ejbTSzDMm5c"
      },
      "source": [
        "# Make predictions\n",
        "predicted_stock_price_2 = model2.predict(X_test)\n",
        "predicted_stock_price_2 = sc.inverse_transform(predicted_stock_price_2)"
      ],
      "execution_count": 20,
      "outputs": []
    },
    {
      "cell_type": "code",
      "metadata": {
        "id": "bo7PTXM8MvB6",
        "outputId": "7ed5ccf3-cf9a-4fa6-ee59-5f30df7eb8ec",
        "colab": {
          "base_uri": "https://localhost:8080/",
          "height": 334
        }
      },
      "source": [
        "# Visualising the results\n",
        "plt.plot(df.loc[1000:, 'Date'],dataset_test.values, color = 'red', label = \"Real TESLA Stock Price\")\n",
        "plt.plot(df.loc[1000:, 'Date'],predicted_stock_price_2, color = 'blue', label = \"Predicted TESLA Stock Price\")\n",
        "plt.xticks(np.arange(0,328,50))\n",
        "plt.title('TESLA Stock Price Prediction')\n",
        "plt.xlabel('Time')\n",
        "plt.ylabel('TESLA Stock Price')\n",
        "plt.xticks(rotation=45)\n",
        "plt.legend()\n",
        "plt.show()"
      ],
      "execution_count": 22,
      "outputs": [
        {
          "output_type": "display_data",
          "data": {
            "image/png": "[encoded data removed]",
            "text/plain": [
              "<Figure size 432x288 with 1 Axes>"
            ]
          },
          "metadata": {
            "tags": [],
            "needs_background": "light"
          }
        }
      ]
    },
    {
      "cell_type": "markdown",
      "metadata": {
        "id": "BOvt7sFbPwwr"
      },
      "source": [
        "### (3) The third LSTM model is the one with 50 neurons and 4 hidden layers, where each hidden layer has a dropout rate of 0.5. We will use the MSE loss function and the Adam stochastic gradient descent optimizer."
      ]
    },
    {
      "cell_type": "code",
      "metadata": {
        "id": "tTXm4I_PQlTK"
      },
      "source": [
        "model3 = Sequential()\n",
        "\n",
        "#Adding the first LSTM layer and some Dropout regularisation\n",
        "model3.add(LSTM(units = 50, return_sequences = True, input_shape = (X_train.shape[1], 1)))\n",
        "model3.add(Dropout(0.5))\n",
        "\n",
        "# Adding a second LSTM layer and some Dropout regularisation\n",
        "model3.add(LSTM(units = 50, return_sequences = True))\n",
        "model3.add(Dropout(0.5))\n",
        "\n",
        "# Adding a third LSTM layer and some Dropout regularisation\n",
        "model3.add(LSTM(units = 50, return_sequences = True))\n",
        "model3.add(Dropout(0.5))\n",
        "\n",
        "# Adding a fourth LSTM layer and some Dropout regularisation\n",
        "model3.add(LSTM(units = 50))\n",
        "model3.add(Dropout(0.5))\n",
        "\n",
        "# Adding the output layer\n",
        "model3.add(Dense(units = 1))\n",
        "\n",
        "# Compiling the RNN\n",
        "model3.compile(optimizer = 'adam', loss = 'mean_squared_error')"
      ],
      "execution_count": 24,
      "outputs": []
    },
    {
      "cell_type": "code",
      "metadata": {
        "id": "JUfE9FziQ08r",
        "outputId": "61f02b74-1510-46bc-9592-2c0997e0f1d7",
        "colab": {
          "base_uri": "https://localhost:8080/",
          "height": 1000
        }
      },
      "source": [
        "# Fitting the RNN to the Training set\n",
        "model3.fit(X_train, y_train, epochs = 100, batch_size = 32)"
      ],
      "execution_count": 25,
      "outputs": [
        {
          "output_type": "stream",
          "text": [
            "Epoch 1/100\n",
            "30/30 [==============================] - 3s 93ms/step - loss: 0.0617\n",
            "Epoch 2/100\n",
            "30/30 [==============================] - 3s 99ms/step - loss: 0.0245\n",
            "Epoch 3/100\n",
            "30/30 [==============================] - 3s 96ms/step - loss: 0.0227\n",
            "Epoch 4/100\n",
            "30/30 [==============================] - 3s 98ms/step - loss: 0.0211\n",
            "Epoch 5/100\n",
            "30/30 [==============================] - 3s 101ms/step - loss: 0.0197\n",
            "Epoch 6/100\n",
            "30/30 [==============================] - 3s 98ms/step - loss: 0.0205\n",
            "Epoch 7/100\n",
            "30/30 [==============================] - 3s 99ms/step - loss: 0.0167\n",
            "Epoch 8/100\n",
            "30/30 [==============================] - 3s 99ms/step - loss: 0.0164\n",
            "Epoch 9/100\n",
            "30/30 [==============================] - 3s 99ms/step - loss: 0.0167\n",
            "Epoch 10/100\n",
            "30/30 [==============================] - 3s 98ms/step - loss: 0.0162\n",
            "Epoch 11/100\n",
            "30/30 [==============================] - 3s 98ms/step - loss: 0.0140\n",
            "Epoch 12/100\n",
            "30/30 [==============================] - 3s 99ms/step - loss: 0.0150\n",
            "Epoch 13/100\n",
            "30/30 [==============================] - 3s 98ms/step - loss: 0.0148\n",
            "Epoch 14/100\n",
            "30/30 [==============================] - 3s 98ms/step - loss: 0.0154\n",
            "Epoch 15/100\n",
            "30/30 [==============================] - 3s 98ms/step - loss: 0.0149\n",
            "Epoch 16/100\n",
            "30/30 [==============================] - 3s 98ms/step - loss: 0.0128\n",
            "Epoch 17/100\n",
            "30/30 [==============================] - 3s 98ms/step - loss: 0.0124\n",
            "Epoch 18/100\n",
            "30/30 [==============================] - 3s 97ms/step - loss: 0.0134\n",
            "Epoch 19/100\n",
            "30/30 [==============================] - 3s 98ms/step - loss: 0.0129\n",
            "Epoch 20/100\n",
            "30/30 [==============================] - 3s 98ms/step - loss: 0.0126\n",
            "Epoch 21/100\n",
            "30/30 [==============================] - 3s 99ms/step - loss: 0.0115\n",
            "Epoch 22/100\n",
            "30/30 [==============================] - 3s 98ms/step - loss: 0.0118\n",
            "Epoch 23/100\n",
            "30/30 [==============================] - 3s 98ms/step - loss: 0.0103\n",
            "Epoch 24/100\n",
            "30/30 [==============================] - 3s 101ms/step - loss: 0.0101\n",
            "Epoch 25/100\n",
            "30/30 [==============================] - 3s 99ms/step - loss: 0.0096\n",
            "Epoch 26/100\n",
            "30/30 [==============================] - 3s 100ms/step - loss: 0.0100\n",
            "Epoch 27/100\n",
            "30/30 [==============================] - 3s 98ms/step - loss: 0.0103\n",
            "Epoch 28/100\n",
            "30/30 [==============================] - 3s 99ms/step - loss: 0.0096\n",
            "Epoch 29/100\n",
            "30/30 [==============================] - 3s 99ms/step - loss: 0.0093\n",
            "Epoch 30/100\n",
            "30/30 [==============================] - 3s 99ms/step - loss: 0.0096\n",
            "Epoch 31/100\n",
            "30/30 [==============================] - 3s 99ms/step - loss: 0.0094\n",
            "Epoch 32/100\n",
            "30/30 [==============================] - 3s 98ms/step - loss: 0.0100\n",
            "Epoch 33/100\n",
            "30/30 [==============================] - 3s 100ms/step - loss: 0.0085\n",
            "Epoch 34/100\n",
            "30/30 [==============================] - 3s 100ms/step - loss: 0.0083\n",
            "Epoch 35/100\n",
            "30/30 [==============================] - 3s 100ms/step - loss: 0.0082\n",
            "Epoch 36/100\n",
            "30/30 [==============================] - 3s 99ms/step - loss: 0.0076\n",
            "Epoch 37/100\n",
            "30/30 [==============================] - 3s 98ms/step - loss: 0.0083\n",
            "Epoch 38/100\n",
            "30/30 [==============================] - 3s 100ms/step - loss: 0.0077\n",
            "Epoch 39/100\n",
            "30/30 [==============================] - 3s 99ms/step - loss: 0.0078\n",
            "Epoch 40/100\n",
            "30/30 [==============================] - 3s 98ms/step - loss: 0.0074\n",
            "Epoch 41/100\n",
            "30/30 [==============================] - 3s 99ms/step - loss: 0.0074\n",
            "Epoch 42/100\n",
            "30/30 [==============================] - 3s 98ms/step - loss: 0.0072\n",
            "Epoch 43/100\n",
            "30/30 [==============================] - 3s 98ms/step - loss: 0.0074\n",
            "Epoch 44/100\n",
            "30/30 [==============================] - 3s 98ms/step - loss: 0.0070\n",
            "Epoch 45/100\n",
            "30/30 [==============================] - 3s 98ms/step - loss: 0.0074\n",
            "Epoch 46/100\n",
            "30/30 [==============================] - 3s 100ms/step - loss: 0.0075\n",
            "Epoch 47/100\n",
            "30/30 [==============================] - 3s 100ms/step - loss: 0.0074\n",
            "Epoch 48/100\n",
            "30/30 [==============================] - 3s 99ms/step - loss: 0.0064\n",
            "Epoch 49/100\n",
            "30/30 [==============================] - 3s 99ms/step - loss: 0.0062\n",
            "Epoch 50/100\n",
            "30/30 [==============================] - 3s 99ms/step - loss: 0.0062\n",
            "Epoch 51/100\n",
            "30/30 [==============================] - 3s 100ms/step - loss: 0.0063\n",
            "Epoch 52/100\n",
            "30/30 [==============================] - 3s 101ms/step - loss: 0.0057\n",
            "Epoch 53/100\n",
            "30/30 [==============================] - 3s 100ms/step - loss: 0.0069\n",
            "Epoch 54/100\n",
            "30/30 [==============================] - 3s 100ms/step - loss: 0.0063\n",
            "Epoch 55/100\n",
            "30/30 [==============================] - 3s 100ms/step - loss: 0.0061\n",
            "Epoch 56/100\n",
            "30/30 [==============================] - 3s 99ms/step - loss: 0.0059\n",
            "Epoch 57/100\n",
            "30/30 [==============================] - 3s 98ms/step - loss: 0.0055\n",
            "Epoch 58/100\n",
            "30/30 [==============================] - 3s 100ms/step - loss: 0.0062\n",
            "Epoch 59/100\n",
            "30/30 [==============================] - 3s 99ms/step - loss: 0.0054\n",
            "Epoch 60/100\n",
            "30/30 [==============================] - 3s 101ms/step - loss: 0.0057\n",
            "Epoch 61/100\n",
            "30/30 [==============================] - 3s 101ms/step - loss: 0.0056\n",
            "Epoch 62/100\n",
            "30/30 [==============================] - 3s 99ms/step - loss: 0.0057\n",
            "Epoch 63/100\n",
            "30/30 [==============================] - 3s 100ms/step - loss: 0.0052\n",
            "Epoch 64/100\n",
            "30/30 [==============================] - 3s 99ms/step - loss: 0.0059\n",
            "Epoch 65/100\n",
            "30/30 [==============================] - 3s 100ms/step - loss: 0.0049\n",
            "Epoch 66/100\n",
            "30/30 [==============================] - 3s 100ms/step - loss: 0.0050\n",
            "Epoch 67/100\n",
            "30/30 [==============================] - 3s 102ms/step - loss: 0.0053\n",
            "Epoch 68/100\n",
            "30/30 [==============================] - 3s 99ms/step - loss: 0.0053\n",
            "Epoch 69/100\n",
            "30/30 [==============================] - 3s 100ms/step - loss: 0.0045\n",
            "Epoch 70/100\n",
            "30/30 [==============================] - 3s 100ms/step - loss: 0.0052\n",
            "Epoch 71/100\n",
            "30/30 [==============================] - 3s 99ms/step - loss: 0.0051\n",
            "Epoch 72/100\n",
            "30/30 [==============================] - 3s 100ms/step - loss: 0.0051\n",
            "Epoch 73/100\n",
            "30/30 [==============================] - 3s 98ms/step - loss: 0.0053\n",
            "Epoch 74/100\n",
            "30/30 [==============================] - 3s 100ms/step - loss: 0.0042\n",
            "Epoch 75/100\n",
            "30/30 [==============================] - 3s 100ms/step - loss: 0.0046\n",
            "Epoch 76/100\n",
            "30/30 [==============================] - 3s 104ms/step - loss: 0.0048\n",
            "Epoch 77/100\n",
            "30/30 [==============================] - 3s 106ms/step - loss: 0.0049\n",
            "Epoch 78/100\n",
            "30/30 [==============================] - 3s 108ms/step - loss: 0.0049\n",
            "Epoch 79/100\n",
            "30/30 [==============================] - 3s 107ms/step - loss: 0.0050\n",
            "Epoch 80/100\n",
            "30/30 [==============================] - 3s 106ms/step - loss: 0.0046\n",
            "Epoch 81/100\n",
            "30/30 [==============================] - 3s 108ms/step - loss: 0.0043\n",
            "Epoch 82/100\n",
            "30/30 [==============================] - 3s 108ms/step - loss: 0.0047\n",
            "Epoch 83/100\n",
            "30/30 [==============================] - 3s 107ms/step - loss: 0.0042\n",
            "Epoch 84/100\n",
            "30/30 [==============================] - 3s 107ms/step - loss: 0.0049\n",
            "Epoch 85/100\n",
            "30/30 [==============================] - 3s 105ms/step - loss: 0.0047\n",
            "Epoch 86/100\n",
            "30/30 [==============================] - 3s 110ms/step - loss: 0.0047\n",
            "Epoch 87/100\n",
            "30/30 [==============================] - 3s 107ms/step - loss: 0.0047\n",
            "Epoch 88/100\n",
            "30/30 [==============================] - 3s 107ms/step - loss: 0.0047\n",
            "Epoch 89/100\n",
            "30/30 [==============================] - 3s 108ms/step - loss: 0.0041\n",
            "Epoch 90/100\n",
            "30/30 [==============================] - 3s 107ms/step - loss: 0.0040\n",
            "Epoch 91/100\n",
            "30/30 [==============================] - 3s 110ms/step - loss: 0.0042\n",
            "Epoch 92/100\n",
            "30/30 [==============================] - 3s 110ms/step - loss: 0.0042\n",
            "Epoch 93/100\n",
            "30/30 [==============================] - 3s 107ms/step - loss: 0.0049\n",
            "Epoch 94/100\n",
            "30/30 [==============================] - 3s 107ms/step - loss: 0.0041\n",
            "Epoch 95/100\n",
            "30/30 [==============================] - 3s 108ms/step - loss: 0.0042\n",
            "Epoch 96/100\n",
            "30/30 [==============================] - 3s 106ms/step - loss: 0.0040\n",
            "Epoch 97/100\n",
            "30/30 [==============================] - 3s 107ms/step - loss: 0.0038\n",
            "Epoch 98/100\n",
            "30/30 [==============================] - 3s 109ms/step - loss: 0.0043\n",
            "Epoch 99/100\n",
            "30/30 [==============================] - 3s 107ms/step - loss: 0.0040\n",
            "Epoch 100/100\n",
            "30/30 [==============================] - 3s 110ms/step - loss: 0.0043\n"
          ],
          "name": "stdout"
        },
        {
          "output_type": "execute_result",
          "data": {
            "text/plain": [
              "<tensorflow.python.keras.callbacks.History at 0x7f3be22d1780>"
            ]
          },
          "metadata": {
            "tags": []
          },
          "execution_count": 25
        }
      ]
    },
    {
      "cell_type": "code",
      "metadata": {
        "id": "RSgd-MHGQ4ts"
      },
      "source": [
        "predicted_stock_price_3 = model3.predict(X_test)\n",
        "predicted_stock_price_3 = sc.inverse_transform(predicted_stock_price_3)"
      ],
      "execution_count": 29,
      "outputs": []
    },
    {
      "cell_type": "code",
      "metadata": {
        "id": "9Ymf6x0PQ84V",
        "outputId": "94fb3060-0922-4574-8a14-325883b0a02a",
        "colab": {
          "base_uri": "https://localhost:8080/",
          "height": 334
        }
      },
      "source": [
        "# Visualising the results\n",
        "plt.plot(df.loc[1000:, 'Date'],dataset_test.values, color = 'red', label = \"Real TESLA Stock Price\")\n",
        "plt.plot(df.loc[1000:, 'Date'],predicted_stock_price_3, color = 'blue', label = \"Predicted TESLA Stock Price\")\n",
        "plt.xticks(np.arange(0,328,50))\n",
        "plt.title('TESLA Stock Price Prediction')\n",
        "plt.xlabel('Time')\n",
        "plt.ylabel('TESLA Stock Price')\n",
        "plt.xticks(rotation=45)\n",
        "plt.legend()\n",
        "plt.show()"
      ],
      "execution_count": 30,
      "outputs": [
        {
          "output_type": "display_data",
          "data": {
            "image/png": "[encoded data removed]",
            "text/plain": [
              "<Figure size 432x288 with 1 Axes>"
            ]
          },
          "metadata": {
            "tags": [],
            "needs_background": "light"
          }
        }
      ]
    },
    {
      "cell_type": "markdown",
      "metadata": {
        "id": "dzrHdOFzbQuU"
      },
      "source": [
        "### (4) The third LSTM model is the one with 128 neurons and 4 hidden layers, where each hidden layer has a dropout rate of 0.5. We will use the MSE loss function and the Adam stochastic gradient descent optimizer."
      ]
    },
    {
      "cell_type": "code",
      "metadata": {
        "id": "vZFd0uQcbZmZ"
      },
      "source": [
        "model4 = Sequential()\n",
        "\n",
        "#Adding the first LSTM layer and some Dropout regularisation\n",
        "model4.add(LSTM(units = 128, return_sequences = True, input_shape = (X_train.shape[1], 1)))\n",
        "model4.add(Dropout(0.5))\n",
        "\n",
        "# Adding a second LSTM layer and some Dropout regularisation\n",
        "model4.add(LSTM(units = 128, return_sequences = True))\n",
        "model4.add(Dropout(0.5))\n",
        "\n",
        "# Adding a third LSTM layer and some Dropout regularisation\n",
        "model4.add(LSTM(units = 128, return_sequences = True))\n",
        "model4.add(Dropout(0.5))\n",
        "\n",
        "# Adding a fourth LSTM layer and some Dropout regularisation\n",
        "model4.add(LSTM(units = 128))\n",
        "model4.add(Dropout(0.5))\n",
        "\n",
        "# Adding the output layer\n",
        "model4.add(Dense(units = 1))\n",
        "\n",
        "# Compiling the RNN\n",
        "model4.compile(optimizer = 'adam', loss = 'mean_squared_error')"
      ],
      "execution_count": 32,
      "outputs": []
    },
    {
      "cell_type": "code",
      "metadata": {
        "id": "I8QSDYsobwKA",
        "outputId": "2bc337a8-3fa0-408b-918e-e01e902ccfa0",
        "colab": {
          "base_uri": "https://localhost:8080/",
          "height": 1000
        }
      },
      "source": [
        "# Fitting the RNN to the Training set\n",
        "model4.fit(X_train, y_train, epochs = 100, batch_size = 32)"
      ],
      "execution_count": 33,
      "outputs": [
        {
          "output_type": "stream",
          "text": [
            "Epoch 1/100\n",
            "30/30 [==============================] - 8s 256ms/step - loss: 0.0498\n",
            "Epoch 2/100\n",
            "30/30 [==============================] - 8s 260ms/step - loss: 0.0176\n",
            "Epoch 3/100\n",
            "30/30 [==============================] - 8s 261ms/step - loss: 0.0149\n",
            "Epoch 4/100\n",
            "30/30 [==============================] - 8s 261ms/step - loss: 0.0134\n",
            "Epoch 5/100\n",
            "30/30 [==============================] - 8s 261ms/step - loss: 0.0132\n",
            "Epoch 6/100\n",
            "30/30 [==============================] - 8s 259ms/step - loss: 0.0127\n",
            "Epoch 7/100\n",
            "30/30 [==============================] - 8s 256ms/step - loss: 0.0118\n",
            "Epoch 8/100\n",
            "30/30 [==============================] - 8s 258ms/step - loss: 0.0116\n",
            "Epoch 9/100\n",
            "30/30 [==============================] - 8s 255ms/step - loss: 0.0115\n",
            "Epoch 10/100\n",
            "30/30 [==============================] - 7s 242ms/step - loss: 0.0120\n",
            "Epoch 11/100\n",
            "30/30 [==============================] - 7s 244ms/step - loss: 0.0092\n",
            "Epoch 12/100\n",
            "30/30 [==============================] - 7s 245ms/step - loss: 0.0093\n",
            "Epoch 13/100\n",
            "30/30 [==============================] - 7s 245ms/step - loss: 0.0096\n",
            "Epoch 14/100\n",
            "30/30 [==============================] - 7s 245ms/step - loss: 0.0087\n",
            "Epoch 15/100\n",
            "30/30 [==============================] - 7s 245ms/step - loss: 0.0087\n",
            "Epoch 16/100\n",
            "30/30 [==============================] - 7s 244ms/step - loss: 0.0089\n",
            "Epoch 17/100\n",
            "30/30 [==============================] - 7s 243ms/step - loss: 0.0079\n",
            "Epoch 18/100\n",
            "30/30 [==============================] - 7s 244ms/step - loss: 0.0078\n",
            "Epoch 19/100\n",
            "30/30 [==============================] - 7s 245ms/step - loss: 0.0077\n",
            "Epoch 20/100\n",
            "30/30 [==============================] - 7s 245ms/step - loss: 0.0071\n",
            "Epoch 21/100\n",
            "30/30 [==============================] - 7s 245ms/step - loss: 0.0075\n",
            "Epoch 22/100\n",
            "30/30 [==============================] - 7s 241ms/step - loss: 0.0069\n",
            "Epoch 23/100\n",
            "30/30 [==============================] - 7s 240ms/step - loss: 0.0072\n",
            "Epoch 24/100\n",
            "30/30 [==============================] - 7s 243ms/step - loss: 0.0065\n",
            "Epoch 25/100\n",
            "30/30 [==============================] - 7s 245ms/step - loss: 0.0073\n",
            "Epoch 26/100\n",
            "30/30 [==============================] - 7s 244ms/step - loss: 0.0068\n",
            "Epoch 27/100\n",
            "30/30 [==============================] - 7s 244ms/step - loss: 0.0070\n",
            "Epoch 28/100\n",
            "30/30 [==============================] - 7s 245ms/step - loss: 0.0064\n",
            "Epoch 29/100\n",
            "30/30 [==============================] - 7s 244ms/step - loss: 0.0059\n",
            "Epoch 30/100\n",
            "30/30 [==============================] - 9s 304ms/step - loss: 0.0060\n",
            "Epoch 31/100\n",
            "30/30 [==============================] - 8s 283ms/step - loss: 0.0064\n",
            "Epoch 32/100\n",
            "30/30 [==============================] - 7s 246ms/step - loss: 0.0062\n",
            "Epoch 33/100\n",
            "30/30 [==============================] - 7s 247ms/step - loss: 0.0053\n",
            "Epoch 34/100\n",
            "30/30 [==============================] - 7s 245ms/step - loss: 0.0061\n",
            "Epoch 35/100\n",
            "30/30 [==============================] - 7s 245ms/step - loss: 0.0060\n",
            "Epoch 36/100\n",
            "30/30 [==============================] - 7s 244ms/step - loss: 0.0053\n",
            "Epoch 37/100\n",
            "30/30 [==============================] - 7s 247ms/step - loss: 0.0054\n",
            "Epoch 38/100\n",
            "30/30 [==============================] - 7s 246ms/step - loss: 0.0050\n",
            "Epoch 39/100\n",
            "30/30 [==============================] - 7s 246ms/step - loss: 0.0053\n",
            "Epoch 40/100\n",
            "30/30 [==============================] - 7s 247ms/step - loss: 0.0052\n",
            "Epoch 41/100\n",
            "30/30 [==============================] - 7s 246ms/step - loss: 0.0053\n",
            "Epoch 42/100\n",
            "30/30 [==============================] - 7s 245ms/step - loss: 0.0050\n",
            "Epoch 43/100\n",
            "30/30 [==============================] - 7s 244ms/step - loss: 0.0047\n",
            "Epoch 44/100\n",
            "30/30 [==============================] - 7s 245ms/step - loss: 0.0049\n",
            "Epoch 45/100\n",
            "30/30 [==============================] - 7s 245ms/step - loss: 0.0054\n",
            "Epoch 46/100\n",
            "30/30 [==============================] - 7s 246ms/step - loss: 0.0048\n",
            "Epoch 47/100\n",
            "30/30 [==============================] - 7s 247ms/step - loss: 0.0049\n",
            "Epoch 48/100\n",
            "30/30 [==============================] - 8s 253ms/step - loss: 0.0049\n",
            "Epoch 49/100\n",
            "30/30 [==============================] - 7s 247ms/step - loss: 0.0050\n",
            "Epoch 50/100\n",
            "30/30 [==============================] - 7s 248ms/step - loss: 0.0048\n",
            "Epoch 51/100\n",
            "30/30 [==============================] - 7s 248ms/step - loss: 0.0051\n",
            "Epoch 52/100\n",
            "30/30 [==============================] - 7s 248ms/step - loss: 0.0044\n",
            "Epoch 53/100\n",
            "30/30 [==============================] - 7s 248ms/step - loss: 0.0043\n",
            "Epoch 54/100\n",
            "30/30 [==============================] - 7s 249ms/step - loss: 0.0044\n",
            "Epoch 55/100\n",
            "30/30 [==============================] - 7s 247ms/step - loss: 0.0042\n",
            "Epoch 56/100\n",
            "30/30 [==============================] - 7s 248ms/step - loss: 0.0048\n",
            "Epoch 57/100\n",
            "30/30 [==============================] - 7s 249ms/step - loss: 0.0048\n",
            "Epoch 58/100\n",
            "30/30 [==============================] - 7s 248ms/step - loss: 0.0045\n",
            "Epoch 59/100\n",
            "30/30 [==============================] - 8s 251ms/step - loss: 0.0043\n",
            "Epoch 60/100\n",
            "30/30 [==============================] - 7s 250ms/step - loss: 0.0042\n",
            "Epoch 61/100\n",
            "30/30 [==============================] - 7s 248ms/step - loss: 0.0045\n",
            "Epoch 62/100\n",
            "30/30 [==============================] - 7s 249ms/step - loss: 0.0045\n",
            "Epoch 63/100\n",
            "30/30 [==============================] - 8s 251ms/step - loss: 0.0041\n",
            "Epoch 64/100\n",
            "30/30 [==============================] - 7s 250ms/step - loss: 0.0040\n",
            "Epoch 65/100\n",
            "30/30 [==============================] - 8s 251ms/step - loss: 0.0038\n",
            "Epoch 66/100\n",
            "30/30 [==============================] - 7s 250ms/step - loss: 0.0044\n",
            "Epoch 67/100\n",
            "30/30 [==============================] - 7s 250ms/step - loss: 0.0039\n",
            "Epoch 68/100\n",
            "30/30 [==============================] - 8s 251ms/step - loss: 0.0040\n",
            "Epoch 69/100\n",
            "30/30 [==============================] - 7s 249ms/step - loss: 0.0038\n",
            "Epoch 70/100\n",
            "30/30 [==============================] - 7s 250ms/step - loss: 0.0039\n",
            "Epoch 71/100\n",
            "30/30 [==============================] - 8s 250ms/step - loss: 0.0038\n",
            "Epoch 72/100\n",
            "30/30 [==============================] - 8s 250ms/step - loss: 0.0038\n",
            "Epoch 73/100\n",
            "30/30 [==============================] - 8s 251ms/step - loss: 0.0038\n",
            "Epoch 74/100\n",
            "30/30 [==============================] - 7s 249ms/step - loss: 0.0037\n",
            "Epoch 75/100\n",
            "30/30 [==============================] - 8s 251ms/step - loss: 0.0040\n",
            "Epoch 76/100\n",
            "30/30 [==============================] - 8s 251ms/step - loss: 0.0035\n",
            "Epoch 77/100\n",
            "30/30 [==============================] - 8s 251ms/step - loss: 0.0041\n",
            "Epoch 78/100\n",
            "30/30 [==============================] - 7s 250ms/step - loss: 0.0039\n",
            "Epoch 79/100\n",
            "30/30 [==============================] - 7s 249ms/step - loss: 0.0035\n",
            "Epoch 80/100\n",
            "30/30 [==============================] - 8s 251ms/step - loss: 0.0036\n",
            "Epoch 81/100\n",
            "30/30 [==============================] - 8s 253ms/step - loss: 0.0034\n",
            "Epoch 82/100\n",
            "30/30 [==============================] - 7s 249ms/step - loss: 0.0034\n",
            "Epoch 83/100\n",
            "30/30 [==============================] - 7s 247ms/step - loss: 0.0032\n",
            "Epoch 84/100\n",
            "30/30 [==============================] - 7s 246ms/step - loss: 0.0041\n",
            "Epoch 85/100\n",
            "30/30 [==============================] - 7s 245ms/step - loss: 0.0031\n",
            "Epoch 86/100\n",
            "30/30 [==============================] - 7s 244ms/step - loss: 0.0033\n",
            "Epoch 87/100\n",
            "30/30 [==============================] - 7s 247ms/step - loss: 0.0038\n",
            "Epoch 88/100\n",
            "30/30 [==============================] - 8s 254ms/step - loss: 0.0039\n",
            "Epoch 89/100\n",
            "30/30 [==============================] - 7s 246ms/step - loss: 0.0033\n",
            "Epoch 90/100\n",
            "30/30 [==============================] - 7s 246ms/step - loss: 0.0033\n",
            "Epoch 91/100\n",
            "30/30 [==============================] - 7s 245ms/step - loss: 0.0035\n",
            "Epoch 92/100\n",
            "30/30 [==============================] - 7s 246ms/step - loss: 0.0034\n",
            "Epoch 93/100\n",
            "30/30 [==============================] - 7s 248ms/step - loss: 0.0035\n",
            "Epoch 94/100\n",
            "30/30 [==============================] - 7s 245ms/step - loss: 0.0029\n",
            "Epoch 95/100\n",
            "30/30 [==============================] - 7s 245ms/step - loss: 0.0038\n",
            "Epoch 96/100\n",
            "30/30 [==============================] - 7s 245ms/step - loss: 0.0030\n",
            "Epoch 97/100\n",
            "30/30 [==============================] - 7s 246ms/step - loss: 0.0030\n",
            "Epoch 98/100\n",
            "30/30 [==============================] - 7s 245ms/step - loss: 0.0032\n",
            "Epoch 99/100\n",
            "30/30 [==============================] - 7s 246ms/step - loss: 0.0033\n",
            "Epoch 100/100\n",
            "30/30 [==============================] - 7s 246ms/step - loss: 0.0030\n"
          ],
          "name": "stdout"
        },
        {
          "output_type": "execute_result",
          "data": {
            "text/plain": [
              "<tensorflow.python.keras.callbacks.History at 0x7f3bdff215c0>"
            ]
          },
          "metadata": {
            "tags": []
          },
          "execution_count": 33
        }
      ]
    },
    {
      "cell_type": "code",
      "metadata": {
        "id": "oYRCVC-bbz2i"
      },
      "source": [
        "predicted_stock_price_4 = model4.predict(X_test)\n",
        "predicted_stock_price_4 = sc.inverse_transform(predicted_stock_price_4)"
      ],
      "execution_count": 34,
      "outputs": []
    },
    {
      "cell_type": "code",
      "metadata": {
        "id": "Lk9Y0aHtb6o0",
        "outputId": "ac7a69fd-098a-4b2f-ecda-d35f12216a62",
        "colab": {
          "base_uri": "https://localhost:8080/",
          "height": 334
        }
      },
      "source": [
        "# Visualising the results\n",
        "plt.plot(df.loc[1000:, 'Date'],dataset_test.values, color = 'red', label = \"Real TESLA Stock Price\")\n",
        "plt.plot(df.loc[1000:, 'Date'],predicted_stock_price_4, color = 'blue', label = \"Predicted TESLA Stock Price\")\n",
        "plt.xticks(np.arange(0,328,50))\n",
        "plt.title('TESLA Stock Price Prediction')\n",
        "plt.xlabel('Time')\n",
        "plt.ylabel('TESLA Stock Price')\n",
        "plt.xticks(rotation=45)\n",
        "plt.legend()\n",
        "plt.show()"
      ],
      "execution_count": 35,
      "outputs": [
        {
          "output_type": "display_data",
          "data": {
            "image/png": "[encoded data removed]",
            "text/plain": [
              "<Figure size 432x288 with 1 Axes>"
            ]
          },
          "metadata": {
            "tags": [],
            "needs_background": "light"
          }
        }
      ]
    },
    {
      "cell_type": "code",
      "metadata": {
        "id": "3WDHISspfeld",
        "outputId": "f9320e10-0a6d-4115-c8d8-7b29486924a1",
        "colab": {
          "base_uri": "https://localhost:8080/",
          "height": 334
        }
      },
      "source": [
        "# Visualising the results\n",
        "plt.plot(df.loc[1000:, 'Date'],dataset_test.values, color = 'red', label = \"Real TESLA Stock Price\")\n",
        "plt.plot(df.loc[1000:, 'Date'],predicted_stock_price_1, color = 'blue', label = \"Model 1 Predicted TESLA Stock Price\")\n",
        "plt.plot(df.loc[1000:, 'Date'],predicted_stock_price_2, color = 'green', label = \"Model 2 Predicted TESLA Stock Price\")\n",
        "plt.plot(df.loc[1000:, 'Date'],predicted_stock_price_3, color = 'pink', label = \"Model 3 Predicted TESLA Stock Price\")\n",
        "plt.plot(df.loc[1000:, 'Date'],predicted_stock_price_4, color = 'purple', label = \"Model 4 Predicted TESLA Stock Price\")\n",
        "plt.xticks(np.arange(0,328,50))\n",
        "plt.title('TESLA Stock Price Prediction')\n",
        "plt.xlabel('Time')\n",
        "plt.ylabel('TESLA Stock Price')\n",
        "plt.xticks(rotation=45)\n",
        "plt.legend()\n",
        "plt.show()"
      ],
      "execution_count": 36,
      "outputs": [
        {
          "output_type": "display_data",
          "data": {
            "image/png": "[encoded data removed]",
            "text/plain": [
              "<Figure size 432x288 with 1 Axes>"
            ]
          },
          "metadata": {
            "tags": [],
            "needs_background": "light"
          }
        }
      ]
    },
    {
      "cell_type": "markdown",
      "metadata": {
        "id": "4VIP6pc1gBo9"
      },
      "source": [
        "### **Conclusion**\n",
        "1. Compare model 2 with model 1, increasing hidden layers from 4 to 6 in this case, casues the accuracy in test set to decrease, which mainly dues to the overfitting in training the model.\n",
        "\n",
        "2. Compare model 3 with model 1, increaing dropout rate from 0.2 to 0.5 in each hidden layer of the model causes the accuracy in test set to increase. The effect of a higher dropout rate is that the network becomes less sensitive to the specific weights of neurons. This in turn results in a network that is capable of better generalization and is less likely to overfit the training data.\n",
        "\n",
        "3. Compare model 4 with model 3, increasing number of neurons in each hidden layer from 50 to 128 causes the accuracy in test set to decrease, since using too many neurons in the hidden layers can result in overfitting. Another problem is that if the number of neurons is too large, the amount of training time can increase to the point that it is impossible to adequately train the neural network."
      ]
    },
    {
      "cell_type": "markdown",
      "metadata": {
        "id": "MC1VqGInirgH"
      },
      "source": [
        "## Make predictions for the future two weeks"
      ]
    },
    {
      "cell_type": "markdown",
      "metadata": {
        "id": "86D_JQtki3Gv"
      },
      "source": [
        "From above, we choose the model with 4 hidden layers and 50 nuerons in each hidden layer with a dropout rate of 0.5. We use the MSE loss function and the Adam stochastic gradient descent optimizer."
      ]
    },
    {
      "cell_type": "code",
      "metadata": {
        "id": "nQTgg0p7l8bI"
      },
      "source": [
        "model = Sequential()\n",
        "\n",
        "#Adding the first LSTM layer and some Dropout regularisation\n",
        "model.add(LSTM(units = 50, return_sequences = True, input_shape = (X_train.shape[1], 1)))\n",
        "model.add(Dropout(0.5))\n",
        "\n",
        "# Adding a second LSTM layer and some Dropout regularisation\n",
        "model.add(LSTM(units = 50, return_sequences = True))\n",
        "model.add(Dropout(0.5))\n",
        "\n",
        "# Adding a third LSTM layer and some Dropout regularisation\n",
        "model.add(LSTM(units = 50, return_sequences = True))\n",
        "model.add(Dropout(0.5))\n",
        "\n",
        "# Adding a fourth LSTM layer and some Dropout regularisation\n",
        "model.add(LSTM(units = 50))\n",
        "model.add(Dropout(0.5))\n",
        "\n",
        "# Adding the output layer\n",
        "model.add(Dense(units = 10)) # 10 is the number of stock prices fro the future two weeks\n",
        "\n",
        "# Compiling the RNN\n",
        "model.compile(optimizer = 'adam', loss = 'mean_squared_error')"
      ],
      "execution_count": 38,
      "outputs": []
    },
    {
      "cell_type": "code",
      "metadata": {
        "id": "MG_QTgsVmPCf",
        "outputId": "b5397659-e8c4-4a73-ddb8-89d83135091a",
        "colab": {
          "base_uri": "https://localhost:8080/",
          "height": 1000
        }
      },
      "source": [
        "model.fit(X_train, y_train, epochs = 100, batch_size = 32)"
      ],
      "execution_count": 39,
      "outputs": [
        {
          "output_type": "stream",
          "text": [
            "Epoch 1/100\n",
            "30/30 [==============================] - 3s 92ms/step - loss: 0.1270\n",
            "Epoch 2/100\n",
            "30/30 [==============================] - 3s 99ms/step - loss: 0.0520\n",
            "Epoch 3/100\n",
            "30/30 [==============================] - 3s 99ms/step - loss: 0.0419\n",
            "Epoch 4/100\n",
            "30/30 [==============================] - 3s 98ms/step - loss: 0.0378\n",
            "Epoch 5/100\n",
            "30/30 [==============================] - 3s 101ms/step - loss: 0.0349\n",
            "Epoch 6/100\n",
            "30/30 [==============================] - 3s 105ms/step - loss: 0.0290\n",
            "Epoch 7/100\n",
            "30/30 [==============================] - 3s 106ms/step - loss: 0.0263\n",
            "Epoch 8/100\n",
            "30/30 [==============================] - 3s 100ms/step - loss: 0.0250\n",
            "Epoch 9/100\n",
            "30/30 [==============================] - 3s 95ms/step - loss: 0.0225\n",
            "Epoch 10/100\n",
            "30/30 [==============================] - 3s 96ms/step - loss: 0.0214\n",
            "Epoch 11/100\n",
            "30/30 [==============================] - 3s 97ms/step - loss: 0.0196\n",
            "Epoch 12/100\n",
            "30/30 [==============================] - 3s 96ms/step - loss: 0.0185\n",
            "Epoch 13/100\n",
            "30/30 [==============================] - 3s 97ms/step - loss: 0.0187\n",
            "Epoch 14/100\n",
            "30/30 [==============================] - 3s 97ms/step - loss: 0.0165\n",
            "Epoch 15/100\n",
            "30/30 [==============================] - 3s 97ms/step - loss: 0.0158\n",
            "Epoch 16/100\n",
            "30/30 [==============================] - 3s 97ms/step - loss: 0.0147\n",
            "Epoch 17/100\n",
            "30/30 [==============================] - 3s 95ms/step - loss: 0.0144\n",
            "Epoch 18/100\n",
            "30/30 [==============================] - 3s 96ms/step - loss: 0.0137\n",
            "Epoch 19/100\n",
            "30/30 [==============================] - 3s 97ms/step - loss: 0.0151\n",
            "Epoch 20/100\n",
            "30/30 [==============================] - 3s 97ms/step - loss: 0.0131\n",
            "Epoch 21/100\n",
            "30/30 [==============================] - 3s 97ms/step - loss: 0.0129\n",
            "Epoch 22/100\n",
            "30/30 [==============================] - 3s 96ms/step - loss: 0.0121\n",
            "Epoch 23/100\n",
            "30/30 [==============================] - 3s 99ms/step - loss: 0.0118\n",
            "Epoch 24/100\n",
            "30/30 [==============================] - 3s 97ms/step - loss: 0.0116\n",
            "Epoch 25/100\n",
            "30/30 [==============================] - 3s 96ms/step - loss: 0.0104\n",
            "Epoch 26/100\n",
            "30/30 [==============================] - 3s 97ms/step - loss: 0.0108\n",
            "Epoch 27/100\n",
            "30/30 [==============================] - 3s 98ms/step - loss: 0.0112\n",
            "Epoch 28/100\n",
            "30/30 [==============================] - 3s 97ms/step - loss: 0.0104\n",
            "Epoch 29/100\n",
            "30/30 [==============================] - 3s 99ms/step - loss: 0.0096\n",
            "Epoch 30/100\n",
            "30/30 [==============================] - 3s 98ms/step - loss: 0.0097\n",
            "Epoch 31/100\n",
            "30/30 [==============================] - 3s 97ms/step - loss: 0.0096\n",
            "Epoch 32/100\n",
            "30/30 [==============================] - 3s 97ms/step - loss: 0.0084\n",
            "Epoch 33/100\n",
            "30/30 [==============================] - 3s 97ms/step - loss: 0.0088\n",
            "Epoch 34/100\n",
            "30/30 [==============================] - 3s 98ms/step - loss: 0.0092\n",
            "Epoch 35/100\n",
            "30/30 [==============================] - 3s 96ms/step - loss: 0.0086\n",
            "Epoch 36/100\n",
            "30/30 [==============================] - 3s 98ms/step - loss: 0.0084\n",
            "Epoch 37/100\n",
            "30/30 [==============================] - 3s 98ms/step - loss: 0.0075\n",
            "Epoch 38/100\n",
            "30/30 [==============================] - 3s 97ms/step - loss: 0.0075\n",
            "Epoch 39/100\n",
            "30/30 [==============================] - 3s 96ms/step - loss: 0.0078\n",
            "Epoch 40/100\n",
            "30/30 [==============================] - 3s 97ms/step - loss: 0.0071\n",
            "Epoch 41/100\n",
            "30/30 [==============================] - 3s 97ms/step - loss: 0.0072\n",
            "Epoch 42/100\n",
            "30/30 [==============================] - 3s 96ms/step - loss: 0.0071\n",
            "Epoch 43/100\n",
            "30/30 [==============================] - 3s 97ms/step - loss: 0.0066\n",
            "Epoch 44/100\n",
            "30/30 [==============================] - 3s 98ms/step - loss: 0.0068\n",
            "Epoch 45/100\n",
            "30/30 [==============================] - 3s 98ms/step - loss: 0.0064\n",
            "Epoch 46/100\n",
            "30/30 [==============================] - 3s 99ms/step - loss: 0.0060\n",
            "Epoch 47/100\n",
            "30/30 [==============================] - 3s 98ms/step - loss: 0.0070\n",
            "Epoch 48/100\n",
            "30/30 [==============================] - 3s 99ms/step - loss: 0.0064\n",
            "Epoch 49/100\n",
            "30/30 [==============================] - 3s 96ms/step - loss: 0.0062\n",
            "Epoch 50/100\n",
            "30/30 [==============================] - 3s 97ms/step - loss: 0.0071\n",
            "Epoch 51/100\n",
            "30/30 [==============================] - 3s 96ms/step - loss: 0.0058\n",
            "Epoch 52/100\n",
            "30/30 [==============================] - 3s 98ms/step - loss: 0.0060\n",
            "Epoch 53/100\n",
            "30/30 [==============================] - 3s 98ms/step - loss: 0.0061\n",
            "Epoch 54/100\n",
            "30/30 [==============================] - 3s 97ms/step - loss: 0.0066\n",
            "Epoch 55/100\n",
            "30/30 [==============================] - 3s 97ms/step - loss: 0.0057\n",
            "Epoch 56/100\n",
            "30/30 [==============================] - 3s 99ms/step - loss: 0.0058\n",
            "Epoch 57/100\n",
            "30/30 [==============================] - 3s 97ms/step - loss: 0.0060\n",
            "Epoch 58/100\n",
            "30/30 [==============================] - 3s 94ms/step - loss: 0.0059\n",
            "Epoch 59/100\n",
            "30/30 [==============================] - 3s 95ms/step - loss: 0.0058\n",
            "Epoch 60/100\n",
            "30/30 [==============================] - 3s 99ms/step - loss: 0.0055\n",
            "Epoch 61/100\n",
            "30/30 [==============================] - 3s 97ms/step - loss: 0.0053\n",
            "Epoch 62/100\n",
            "30/30 [==============================] - 3s 96ms/step - loss: 0.0051\n",
            "Epoch 63/100\n",
            "30/30 [==============================] - 3s 97ms/step - loss: 0.0053\n",
            "Epoch 64/100\n",
            "30/30 [==============================] - 3s 95ms/step - loss: 0.0051\n",
            "Epoch 65/100\n",
            "30/30 [==============================] - 3s 96ms/step - loss: 0.0058\n",
            "Epoch 66/100\n",
            "30/30 [==============================] - 3s 98ms/step - loss: 0.0049\n",
            "Epoch 67/100\n",
            "30/30 [==============================] - 3s 97ms/step - loss: 0.0053\n",
            "Epoch 68/100\n",
            "30/30 [==============================] - 3s 97ms/step - loss: 0.0051\n",
            "Epoch 69/100\n",
            "30/30 [==============================] - 3s 98ms/step - loss: 0.0050\n",
            "Epoch 70/100\n",
            "30/30 [==============================] - 3s 96ms/step - loss: 0.0049\n",
            "Epoch 71/100\n",
            "30/30 [==============================] - 3s 99ms/step - loss: 0.0049\n",
            "Epoch 72/100\n",
            "30/30 [==============================] - 3s 98ms/step - loss: 0.0048\n",
            "Epoch 73/100\n",
            "30/30 [==============================] - 3s 98ms/step - loss: 0.0051\n",
            "Epoch 74/100\n",
            "30/30 [==============================] - 3s 98ms/step - loss: 0.0054\n",
            "Epoch 75/100\n",
            "30/30 [==============================] - 3s 99ms/step - loss: 0.0047\n",
            "Epoch 76/100\n",
            "30/30 [==============================] - 3s 98ms/step - loss: 0.0048\n",
            "Epoch 77/100\n",
            "30/30 [==============================] - 3s 97ms/step - loss: 0.0049\n",
            "Epoch 78/100\n",
            "30/30 [==============================] - 3s 96ms/step - loss: 0.0046\n",
            "Epoch 79/100\n",
            "30/30 [==============================] - 3s 97ms/step - loss: 0.0044\n",
            "Epoch 80/100\n",
            "30/30 [==============================] - 3s 97ms/step - loss: 0.0052\n",
            "Epoch 81/100\n",
            "30/30 [==============================] - 3s 98ms/step - loss: 0.0049\n",
            "Epoch 82/100\n",
            "30/30 [==============================] - 3s 98ms/step - loss: 0.0045\n",
            "Epoch 83/100\n",
            "30/30 [==============================] - 3s 97ms/step - loss: 0.0046\n",
            "Epoch 84/100\n",
            "30/30 [==============================] - 3s 98ms/step - loss: 0.0046\n",
            "Epoch 85/100\n",
            "30/30 [==============================] - 3s 98ms/step - loss: 0.0040\n",
            "Epoch 86/100\n",
            "30/30 [==============================] - 3s 98ms/step - loss: 0.0041\n",
            "Epoch 87/100\n",
            "30/30 [==============================] - 3s 98ms/step - loss: 0.0045\n",
            "Epoch 88/100\n",
            "30/30 [==============================] - 3s 99ms/step - loss: 0.0044\n",
            "Epoch 89/100\n",
            "30/30 [==============================] - 3s 99ms/step - loss: 0.0042\n",
            "Epoch 90/100\n",
            "30/30 [==============================] - 3s 97ms/step - loss: 0.0038\n",
            "Epoch 91/100\n",
            "30/30 [==============================] - 3s 98ms/step - loss: 0.0039\n",
            "Epoch 92/100\n",
            "30/30 [==============================] - 3s 98ms/step - loss: 0.0043\n",
            "Epoch 93/100\n",
            "30/30 [==============================] - 3s 99ms/step - loss: 0.0045\n",
            "Epoch 94/100\n",
            "30/30 [==============================] - 3s 99ms/step - loss: 0.0039\n",
            "Epoch 95/100\n",
            "30/30 [==============================] - 3s 97ms/step - loss: 0.0045\n",
            "Epoch 96/100\n",
            "30/30 [==============================] - 3s 99ms/step - loss: 0.0039\n",
            "Epoch 97/100\n",
            "30/30 [==============================] - 3s 97ms/step - loss: 0.0043\n",
            "Epoch 98/100\n",
            "30/30 [==============================] - 3s 100ms/step - loss: 0.0038\n",
            "Epoch 99/100\n",
            "30/30 [==============================] - 3s 98ms/step - loss: 0.0040\n",
            "Epoch 100/100\n",
            "30/30 [==============================] - 3s 97ms/step - loss: 0.0041\n"
          ],
          "name": "stdout"
        },
        {
          "output_type": "execute_result",
          "data": {
            "text/plain": [
              "<tensorflow.python.keras.callbacks.History at 0x7f3bdda09f60>"
            ]
          },
          "metadata": {
            "tags": []
          },
          "execution_count": 39
        }
      ]
    },
    {
      "cell_type": "code",
      "metadata": {
        "id": "oBvxdpZamgYs"
      },
      "source": [
        "predicted_stock_price = model.predict(X_test)\n",
        "predicted_stock_price = sc.inverse_transform(predicted_stock_price)"
      ],
      "execution_count": 45,
      "outputs": []
    },
    {
      "cell_type": "code",
      "metadata": {
        "id": "tz_vCs5uvm1Z",
        "outputId": "e3c8e54d-2206-425a-c383-f5a6f4807c7c",
        "colab": {
          "base_uri": "https://localhost:8080/",
          "height": 34
        }
      },
      "source": [
        "print(predicted_stock_price.shape)"
      ],
      "execution_count": 46,
      "outputs": [
        {
          "output_type": "stream",
          "text": [
            "(328, 10)\n"
          ],
          "name": "stdout"
        }
      ]
    },
    {
      "cell_type": "code",
      "metadata": {
        "id": "kq93iKluvw1d",
        "outputId": "09cbcade-841d-4970-8e66-a397ff3808fb",
        "colab": {
          "base_uri": "https://localhost:8080/",
          "height": 387
        }
      },
      "source": [
        "predicted_future_two_weeks = predicted_stock_price[-1, :]\n",
        "myDates = ['2020-10-15', '2020-10-16', '2020-10-19', '2020-10-20', '2020-10-21', '2020-10-22', '2020-10-23', '2020-10-26', '2020-10-27', '2020-10-28']\n",
        "df.predicted = pd.DataFrame({\"Date\": myDates, \"Predicted_Stock_Price\": predicted_future_two_weeks})\n",
        "# Visualising the results\n",
        "plt.plot(df.predicted['Date'], predicted_future_two_weeks, color = 'blue', label = \"Predicted TESLA Stock Price\")\n",
        "plt.title('TESLA Stock Price Prediction')\n",
        "plt.xlabel('Time')\n",
        "plt.ylabel('TESLA Stock Price')\n",
        "plt.xticks(myDates, rotation=45)\n",
        "plt.legend()\n",
        "plt.show()"
      ],
      "execution_count": 59,
      "outputs": [
        {
          "output_type": "stream",
          "text": [
            "/usr/local/lib/python3.6/dist-packages/ipykernel_launcher.py:3: UserWarning: Pandas doesn't allow columns to be created via a new attribute name - see https://pandas.pydata.org/pandas-docs/stable/indexing.html#attribute-access\n",
            "  This is separate from the ipykernel package so we can avoid doing imports until\n"
          ],
          "name": "stderr"
        },
        {
          "output_type": "display_data",
          "data": {
            "image/png": "[encoded data removed]",
            "text/plain": [
              "<Figure size 432x288 with 1 Axes>"
            ]
          },
          "metadata": {
            "tags": [],
            "needs_background": "light"
          }
        }
      ]
    }
  ]
}