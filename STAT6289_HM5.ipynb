{
  "nbformat": 4,
  "nbformat_minor": 0,
  "metadata": {
    "colab": {
      "name": "STAT6289 HM5.ipynb",
      "provenance": [],
      "collapsed_sections": []
    },
    "kernelspec": {
      "name": "python3",
      "display_name": "Python 3"
    }
  },
  "cells": [
    {
      "cell_type": "markdown",
      "metadata": {
        "id": "mQKN3fjnISHp"
      },
      "source": [
        "# STAT6289 Statistical Deep Learning Homework 5"
      ]
    },
    {
      "cell_type": "markdown",
      "metadata": {
        "id": "zWQmA0jekzq5"
      },
      "source": [
        "Getting started with Magnitude and Downloading data"
      ]
    },
    {
      "cell_type": "code",
      "metadata": {
        "id": "OIVFezVBIREh",
        "outputId": "5cb36356-8295-46f8-cd62-26eb9439a08a",
        "colab": {
          "base_uri": "https://localhost:8080/"
        }
      },
      "source": [
        "# Install Magnitude on Google Colab\n",
        "! echo \"Installing Magnitude.... (please wait, can take a while)\"\n",
        "! (curl https://raw.githubusercontent.com/plasticityai/magnitude/master/install-colab.sh | /bin/bash 1>/dev/null 2>/dev/null)\n",
        "! echo \"Done installing Magnitude.\""
      ],
      "execution_count": 1,
      "outputs": [
        {
          "output_type": "stream",
          "text": [
            "Installing Magnitude.... (please wait, can take a while)\n",
            "  % Total    % Received % Xferd  Average Speed   Time    Time     Time  Current\n",
            "                                 Dload  Upload   Total   Spent    Left  Speed\n",
            "100   137  100   137    0     0    674      0 --:--:-- --:--:-- --:--:--   674\n",
            "Done installing Magnitude.\n"
          ],
          "name": "stdout"
        }
      ]
    },
    {
      "cell_type": "code",
      "metadata": {
        "id": "usY1GpU0Jn-6"
      },
      "source": [
        "from pymagnitude import *\n",
        "vectors = Magnitude(\"/content/drive/My Drive/GoogleNews-vectors-negative300.magnitude\")"
      ],
      "execution_count": 2,
      "outputs": []
    },
    {
      "cell_type": "markdown",
      "metadata": {
        "id": "rMvHfjSkn_X1"
      },
      "source": [
        "Number of words in this pre-trained Google News vectors file."
      ]
    },
    {
      "cell_type": "code",
      "metadata": {
        "id": "mOavTaDUZIFX",
        "outputId": "c4aa8867-f642-4832-f6fe-8fab99bc8b03",
        "colab": {
          "base_uri": "https://localhost:8080/"
        }
      },
      "source": [
        "len(vectors)"
      ],
      "execution_count": 3,
      "outputs": [
        {
          "output_type": "execute_result",
          "data": {
            "text/plain": [
              "3000000"
            ]
          },
          "metadata": {
            "tags": []
          },
          "execution_count": 3
        }
      ]
    },
    {
      "cell_type": "markdown",
      "metadata": {
        "id": "HgsMvs8joKzy"
      },
      "source": [
        "Question 1\n",
        "\n",
        "The dimensionality of these word embeddings is 300."
      ]
    },
    {
      "cell_type": "code",
      "metadata": {
        "id": "1h5luOLpZMbw",
        "outputId": "5e9e3aa5-3643-4d31-c13e-b074a150a902",
        "colab": {
          "base_uri": "https://localhost:8080/"
        }
      },
      "source": [
        "vectors.dim"
      ],
      "execution_count": 4,
      "outputs": [
        {
          "output_type": "execute_result",
          "data": {
            "text/plain": [
              "300"
            ]
          },
          "metadata": {
            "tags": []
          },
          "execution_count": 4
        }
      ]
    },
    {
      "cell_type": "markdown",
      "metadata": {
        "id": "6GV2M1ihpuH-"
      },
      "source": [
        "Question 2\n",
        "\n",
        "The top 5 most similar words to picnic are `['picnics', 'picnic_lunch', 'Picnic', 'potluck_picnic', 'picnic_supper' ]`"
      ]
    },
    {
      "cell_type": "code",
      "metadata": {
        "id": "gJDQi8rfZTtb",
        "outputId": "ba40e9fa-5848-48e4-d548-3205028d8c35",
        "colab": {
          "base_uri": "https://localhost:8080/"
        }
      },
      "source": [
        "\"picnic\" in vectors"
      ],
      "execution_count": 5,
      "outputs": [
        {
          "output_type": "execute_result",
          "data": {
            "text/plain": [
              "True"
            ]
          },
          "metadata": {
            "tags": []
          },
          "execution_count": 5
        }
      ]
    },
    {
      "cell_type": "code",
      "metadata": {
        "id": "e3i76hhIaUwi",
        "outputId": "d3208396-5492-4366-afdf-bd775ad6c4c7",
        "colab": {
          "base_uri": "https://localhost:8080/"
        }
      },
      "source": [
        "vectors.most_similar(vectors.query(\"picnic\"), topn = 6)"
      ],
      "execution_count": 7,
      "outputs": [
        {
          "output_type": "execute_result",
          "data": {
            "text/plain": [
              "[('picnic', 0.9999998),\n",
              " ('picnics', 0.7400875),\n",
              " ('picnic_lunch', 0.721374),\n",
              " ('Picnic', 0.700534),\n",
              " ('potluck_picnic', 0.6683274),\n",
              " ('picnic_supper', 0.65189123)]"
            ]
          },
          "metadata": {
            "tags": []
          },
          "execution_count": 7
        }
      ]
    },
    {
      "cell_type": "markdown",
      "metadata": {
        "id": "mn5p8zL6sfgs"
      },
      "source": [
        "Question 3 \n",
        "\n",
        "`['tissue']` is the one not like the others."
      ]
    },
    {
      "cell_type": "code",
      "metadata": {
        "id": "uphjhmpredzN",
        "outputId": "bead5ffe-753f-41ea-884e-fee4fbceb8dd",
        "colab": {
          "base_uri": "https://localhost:8080/",
          "height": 35
        }
      },
      "source": [
        "vectors.doesnt_match(['tissue', 'papyrus', 'manila', 'newsprint', 'parchment', 'gazette'])"
      ],
      "execution_count": 8,
      "outputs": [
        {
          "output_type": "execute_result",
          "data": {
            "application/vnd.google.colaboratory.intrinsic+json": {
              "type": "string"
            },
            "text/plain": [
              "'tissue'"
            ]
          },
          "metadata": {
            "tags": []
          },
          "execution_count": 8
        }
      ]
    },
    {
      "cell_type": "markdown",
      "metadata": {
        "id": "Bs4wQnQXsmP2"
      },
      "source": [
        "Question 4\n",
        "\n",
        "`leg` is to `jump` as `forearm` to `throw`."
      ]
    },
    {
      "cell_type": "code",
      "metadata": {
        "id": "I_50FmsmfGqK",
        "outputId": "b98dd9d7-74ea-4425-f8e8-f66f6d45fab6",
        "colab": {
          "base_uri": "https://localhost:8080/"
        }
      },
      "source": [
        "vectors.most_similar(positive = [\"throw\", \"leg\"], negative = [\"jump\"]) "
      ],
      "execution_count": 9,
      "outputs": [
        {
          "output_type": "execute_result",
          "data": {
            "text/plain": [
              "[('forearm', 0.48294652),\n",
              " ('shin', 0.47376165),\n",
              " ('elbow', 0.4679689),\n",
              " ('metacarpal_bone', 0.46781474),\n",
              " ('metacarpal_bones', 0.46605822),\n",
              " ('ankle', 0.46434426),\n",
              " ('shoulder', 0.46183354),\n",
              " ('thigh', 0.45393682),\n",
              " ('knee', 0.4455707),\n",
              " ('ulna_bone', 0.4423491)]"
            ]
          },
          "metadata": {
            "tags": []
          },
          "execution_count": 9
        }
      ]
    }
  ]
}