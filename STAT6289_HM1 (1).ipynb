{
  "nbformat": 4,
  "nbformat_minor": 0,
  "metadata": {
    "colab": {
      "name": "STAT6289 HM1.ipynb",
      "provenance": []
    },
    "kernelspec": {
      "name": "python3",
      "display_name": "Python 3"
    }
  },
  "cells": [
    {
      "cell_type": "markdown",
      "metadata": {
        "id": "vl19xzWPbZ33"
      },
      "source": [
        "# **STAT6289 Statistical Deep Learning Homework 1**\n"
      ]
    },
    {
      "cell_type": "markdown",
      "metadata": {
        "id": "s-bgIntvb13E"
      },
      "source": [
        "## Problem 1\n",
        "\n"
      ]
    },
    {
      "cell_type": "markdown",
      "metadata": {
        "id": "EyYAbOWSkzQA"
      },
      "source": [
        "###(a) \n",
        "$h_1 = \\frac{1}{1+e^{-(1.5\\times 1+2.5\\times 0+1\\times 1)}} = \\frac{1}{1+e^{-2.5}} = 0.9241$ \n",
        "\n",
        "$h_2 = \\frac{1}{1+e^{-(2\\times 1-1.5\\times 0-3\\times 1)}} = \\frac{1}{1+e^{1}} = 0.2689$ \n",
        "\n",
        "$\\hat{y} = \\frac{1}{1+e^{-(-1\\times 1+1\\times 0.9241+0.5\\times 0.2689)}} = \\frac{1}{1+e^{-0.05855}} = 0.5146$"
      ]
    },
    {
      "cell_type": "markdown",
      "metadata": {
        "id": "E3PqnsJvd96a"
      },
      "source": [
        "### (b)\n",
        "Based on the the following equation: \n",
        "\n",
        "$E = \\frac{1}{2}\\left( y - \\hat{y}\\right)^2$\n",
        "\n",
        "$\\hat{y} = \\frac{1}{1+e^{- \\left(w_{\\hat{y}b}b + w_{\\hat{y}h_1}h_1 + w_{\\hat{y}h_2}h_2\\right)}} $ \n",
        "\n",
        "$h_1 = \\frac{1}{1+e^{\\left(w_{h_1b}b + w_{h_1x_1}x_1 + w_{h_1x_2}x_2\\right)}}$ \n",
        "\n",
        "$h_2 = \\frac{1}{1+e^{\\left(w_{h_2b}b + w_{h_2x_1}x_1 + w_{h_2x_2}x_2\\right)}}$ \n",
        "\n",
        "We can calculate the gradient in the following way: \n",
        "\n",
        "$\\frac{\\partial E }{\\partial w_{\\hat{y}b}} = \\frac{\\partial E}{\\partial \\hat{y}}\\cdot \\frac{\\partial \\hat{y}}{\\partial w_{\\hat{y}b}} = -(y-\\hat{y})\\cdot \\hat{y}(1-\\hat{y})b = -(1 - 0.5146)\\times 0.5146(1-0.5146)\\times 1 = -0.1212$\n",
        "$\\frac{\\partial E }{\\partial w_{\\hat{y}h_1}} = \\frac{\\partial E}{\\partial \\hat{y}}\\cdot \\frac{\\partial \\hat{y}}{\\partial w_{\\hat{y}h_1}} = -(y-\\hat{y})\\cdot \\hat{y}(1-\\hat{y})h_1 = -(1 - 0.5146)\\times 0.5146(1-0.5146)\\times 0.9241 = -0.1120$\n",
        "$\\frac{\\partial E }{\\partial w_{\\hat{y}h_2}} = \\frac{\\partial E}{\\partial \\hat{y}}\\cdot \\frac{\\partial \\hat{y}}{\\partial w_{\\hat{y}h_2}} = -(y-\\hat{y})\\cdot \\hat{y}(1-\\hat{y})h_2 = -(1 - 0.5146)\\times 0.5146(1-0.5146)\\times 0.2689 = -0.0326$\n",
        "$\\frac{\\partial E }{\\partial w_{h_1b}} = \\frac{\\partial E}{\\partial \\hat{y}}\\cdot \\frac{\\partial \\hat{y}}{\\partial h_1}\\cdot \\frac{\\partial h_1}{\\partial w_{h_1b}} = -(y-\\hat{y})\\cdot \\hat{y}(1-\\hat{y})w_{\\hat{y}h_1}\\cdot h_1(1-h_1)b = -(1 - 0.5146)\\times 0.5146(1-0.5146)\\times 1\\times 0.9241(1-0.9241) \\times 1 = -0.0085$\n",
        "$\\frac{\\partial E }{\\partial w_{h_1x_1}} = \\frac{\\partial E}{\\partial \\hat{y}}\\cdot \\frac{\\partial \\hat{y}}{\\partial h_1}\\cdot \\frac{\\partial h_1}{\\partial w_{h_1x_1}} = -(y-\\hat{y})\\cdot \\hat{y}(1-\\hat{y})w_{\\hat{y}h_1}\\cdot h_1(1-h_1)x_1 = -(1 - 0.5146)\\times 0.5146(1-0.5146)\\times 1\\times 0.9241(1-0.9241) \\times 0 = 0$\n",
        "$\\frac{\\partial E }{\\partial w_{h_1x_2}} = \\frac{\\partial E}{\\partial \\hat{y}}\\cdot \\frac{\\partial \\hat{y}}{\\partial h_1}\\cdot \\frac{\\partial h_1}{\\partial w_{h_1x_2}} = -(y-\\hat{y})\\cdot \\hat{y}(1-\\hat{y})w_{\\hat{y}h_1}\\cdot h_1(1-h_1)x_2 = -(1 - 0.5146)\\times 0.5146(1-0.5146)\\times 1\\times 0.9241(1-0.9241) \\times 1 = -0.0085$\n",
        "$\\frac{\\partial E }{\\partial w_{h_2b}} = \\frac{\\partial E}{\\partial \\hat{y}}\\cdot \\frac{\\partial \\hat{y}}{\\partial h_2}\\cdot \\frac{\\partial h_2}{\\partial w_{h_2b}} = -(y-\\hat{y})\\cdot \\hat{y}(1-\\hat{y})w_{\\hat{y}h_2}\\cdot h_2(1-h_2)b = -(1 - 0.5146)\\times 0.5146(1-0.5146)\\times 0.5\\times 0.2689(1-0.2689) \\times 1 = -0.0119$\n",
        "$\\frac{\\partial E }{\\partial w_{h_2x_1}} = \\frac{\\partial E}{\\partial \\hat{y}}\\cdot \\frac{\\partial \\hat{y}}{\\partial h_2}\\cdot \\frac{\\partial h_2}{\\partial w_{h_2x_1}} = -(y-\\hat{y})\\cdot \\hat{y}(1-\\hat{y})w_{\\hat{y}h_2}\\cdot h_2(1-h_2)x_1 = -(1 - 0.5146)\\times 0.5146(1-0.5146)\\times 0.5\\times 0.2689(1-0.2689) \\times 0 = 0$\n",
        "$\\frac{\\partial E }{\\partial w_{h_2x_2}} = \\frac{\\partial E}{\\partial \\hat{y}}\\cdot \\frac{\\partial \\hat{y}}{\\partial h_2}\\cdot \\frac{\\partial h_2}{\\partial w_{h_2x_2}} = -(y-\\hat{y})\\cdot \\hat{y}(1-\\hat{y})w_{\\hat{y}h_2}\\cdot h_2(1-h_2)x_2 = -(1 - 0.5146)\\times 0.5146(1-0.5146)\\times 0.5\\times 0.2689(1-0.2689) \\times 1 = -0.0119$ \n",
        "\n",
        "Therefore, we have the following updated weights:\n",
        "\n",
        "$w_{\\hat{y}b} = w_{\\hat{y}b} - \\alpha \\frac{\\partial E }{\\partial w_{\\hat{y}b}} = -1 - 0.1(-0.1212) = -0.9879$\n",
        "\n",
        "$w_{\\hat{y}h_1} = w_{\\hat{y}h_1} - \\alpha \\frac{\\partial E }{\\partial w_{\\hat{y}h_1}} = 1 - 0.1(-0.1120) = 1.0112$\n",
        "\n",
        "$w_{\\hat{y}h_2} = w_{\\hat{y}h_2} - \\alpha \\frac{\\partial E }{\\partial w_{\\hat{y}h_2}} = 0.5 - 0.1(-0.0326) = 0.5033$ \n",
        "\n",
        "$w_{h_1b} = w_{h_1b} - \\alpha \\frac{\\partial E }{\\partial w_{h_1b}} = 1.5 - 0.1(-0.0085) = 1.5009$ \n",
        "\n",
        "$w_{h_1x_1} = w_{h_1x_1} - \\alpha \\frac{\\partial E }{\\partial w_{h_1x_1}} = 2.5 - 0.1(0) = 2.5$ \n",
        "\n",
        "$w_{h_1x_2} = w_{h_1x_2} - \\alpha \\frac{\\partial E }{\\partial w_{h_1x_2}} = 1 - 0.1(-0.0085) = 1.0009$ \n",
        "\n",
        "$w_{h_2b} = w_{h_2b} - \\alpha \\frac{\\partial E }{\\partial w_{h_2b}} = 2 - 0.1(-0.0119) = 2.0012$ \n",
        "\n",
        "$w_{h_2x_1} = w_{h_2x_1} - \\alpha \\frac{\\partial E }{\\partial w_{h_2x_1}} = -1.5 - 0.1(0) = -1.5$ \n",
        "\n",
        "$w_{h_2x_2} = w_{h_2x_2} - \\alpha \\frac{\\partial E }{\\partial w_{h_2x_2}} = -3 - 0.1(-0.0119) = -2.9988$"
      ]
    },
    {
      "cell_type": "markdown",
      "metadata": {
        "id": "t2QuLj1RIRjj"
      },
      "source": [
        "## Problem 2"
      ]
    },
    {
      "cell_type": "markdown",
      "metadata": {
        "id": "PNhD7rNvIYgF"
      },
      "source": [
        "### Implementation of Pytorch tutorial\n"
      ]
    },
    {
      "cell_type": "markdown",
      "metadata": {
        "id": "Wg13g9tCmtCX"
      },
      "source": [
        "We first import the torch package."
      ]
    },
    {
      "cell_type": "code",
      "metadata": {
        "id": "NqxaEIUxlwfs",
        "outputId": "d3c0eca3-3f00-4c99-c1c5-4440503fcc54",
        "colab": {
          "base_uri": "https://localhost:8080/",
          "height": 34
        }
      },
      "source": [
        "import torch\n",
        "print(torch.__version__)"
      ],
      "execution_count": 2,
      "outputs": [
        {
          "output_type": "stream",
          "text": [
            "1.6.0+cu101\n"
          ],
          "name": "stdout"
        }
      ]
    },
    {
      "cell_type": "markdown",
      "metadata": {
        "id": "U8BHkvD5kdfP"
      },
      "source": [
        "#### 1. Baiscs\n",
        "\n",
        "\n",
        "The followings are examples of one-dimensional and two-dimensional tensor."
      ]
    },
    {
      "cell_type": "code",
      "metadata": {
        "id": "FpzgIGThn7r4",
        "outputId": "c78b6ad0-c760-49cd-b0dc-b5d995ccbf02",
        "colab": {
          "base_uri": "https://localhost:8080/",
          "height": 119
        }
      },
      "source": [
        "# create a one-dimensional tensor\n",
        "X = torch.tensor([123, 456, 789])\n",
        "print(X)\n",
        "print(\"Type of X is \", type(X))\n",
        "print(\"Dimension os X is \", X.dim())\n",
        "print(\"The shape of X is \", X.shape)\n",
        "\n",
        "# get elements of a tensor\n",
        "print(\"The first element of X is \", X[0])\n",
        "\n",
        "# change element of a tensor\n",
        "X[-1] = 999 #change he last element of X to 999\n",
        "print(X)"
      ],
      "execution_count": 6,
      "outputs": [
        {
          "output_type": "stream",
          "text": [
            "tensor([123, 456, 789])\n",
            "Type of X is  <class 'torch.Tensor'>\n",
            "Dimension os X is  1\n",
            "The shape of X is  torch.Size([3])\n",
            "The first element of X is  tensor(123)\n",
            "tensor([123, 456, 999])\n"
          ],
          "name": "stdout"
        }
      ]
    },
    {
      "cell_type": "code",
      "metadata": {
        "id": "nu8PBrIJpbVU",
        "outputId": "cbbad935-b115-4ea5-8292-e202051c2d13",
        "colab": {
          "base_uri": "https://localhost:8080/",
          "height": 136
        }
      },
      "source": [
        "# create a two-dimensional tensor\n",
        "Y = torch.tensor([[123, 456, 789], [1, 2, 3]])\n",
        "print(Y)\n",
        "print(\"Dimension of Y is \", Y.dim())\n",
        "print(\"The shape of Y is \", Y.shape)\n",
        "\n",
        "# access and change elements of tensor\n",
        "print(\"The second element of the first list of Y is \", Y[0, 1])\n",
        "Y[1,2] = 999 #change the last element of the second list of Y to 999\n",
        "print(Y)"
      ],
      "execution_count": 9,
      "outputs": [
        {
          "output_type": "stream",
          "text": [
            "tensor([[123, 456, 789],\n",
            "        [  1,   2,   3]])\n",
            "Dimension of Y is  2\n",
            "The shape of Y is  torch.Size([2, 3])\n",
            "The second element of the first list of Y is  tensor(456)\n",
            "tensor([[123, 456, 789],\n",
            "        [  1,   2, 999]])\n"
          ],
          "name": "stdout"
        }
      ]
    },
    {
      "cell_type": "markdown",
      "metadata": {
        "id": "x1qZQsuHq5o0"
      },
      "source": [
        "PyTorch also provides methods to generate tensors of zeros and random numbers. The following are some examples."
      ]
    },
    {
      "cell_type": "code",
      "metadata": {
        "id": "YOT9H2wTrOP5",
        "outputId": "84fdf94e-9cf5-4bfb-cc45-5ad28d637649",
        "colab": {
          "base_uri": "https://localhost:8080/",
          "height": 272
        }
      },
      "source": [
        "# create a tensor of all zeros\n",
        "a = torch.zeros(3, 2, 5)\n",
        "print(a)\n",
        "\n",
        "# create a 5 by 5 identity matrix\n",
        "b = torch.eye(5)\n",
        "print(b)\n",
        "\n",
        "# create a tensor of random numbers\n",
        "c = torch.rand(2, 3)\n",
        "print(c)"
      ],
      "execution_count": 12,
      "outputs": [
        {
          "output_type": "stream",
          "text": [
            "tensor([[[0., 0., 0., 0., 0.],\n",
            "         [0., 0., 0., 0., 0.]],\n",
            "\n",
            "        [[0., 0., 0., 0., 0.],\n",
            "         [0., 0., 0., 0., 0.]],\n",
            "\n",
            "        [[0., 0., 0., 0., 0.],\n",
            "         [0., 0., 0., 0., 0.]]])\n",
            "tensor([[1., 0., 0., 0., 0.],\n",
            "        [0., 1., 0., 0., 0.],\n",
            "        [0., 0., 1., 0., 0.],\n",
            "        [0., 0., 0., 1., 0.],\n",
            "        [0., 0., 0., 0., 1.]])\n",
            "tensor([[0.2580, 0.5420, 0.4270],\n",
            "        [0.8249, 0.0851, 0.0886]])\n"
          ],
          "name": "stdout"
        }
      ]
    },
    {
      "cell_type": "markdown",
      "metadata": {
        "id": "uLwTtnonssIi"
      },
      "source": [
        "PyTorch tries to guess a datatype when you create a tensor; functions that construct tensors typically have a dtype argument that you can use to explicitly specify a datatype."
      ]
    },
    {
      "cell_type": "code",
      "metadata": {
        "id": "kt5hI_-2s9-G",
        "outputId": "c0430953-c5a0-482c-f297-fc096402681b",
        "colab": {
          "base_uri": "https://localhost:8080/",
          "height": 85
        }
      },
      "source": [
        "# Default data type\n",
        "a1 = torch.tensor([1, 2, 3])\n",
        "a2 = torch.tensor([1., 2., 3.])\n",
        "print(\"The data type of a1 is \", a1.dtype)\n",
        "print(\"The data type of a2 is \", a2.dtype)\n",
        "\n",
        "# Fix the data type\n",
        "b1 = torch.tensor([1, 2, 3], dtype=torch.int64)\n",
        "b2 = torch.tensor([1, 2, 3], dtype=torch.float64)\n",
        "print(b1)\n",
        "print(b2)\n"
      ],
      "execution_count": 14,
      "outputs": [
        {
          "output_type": "stream",
          "text": [
            "The data type of a1 is  torch.int64\n",
            "The data type of a2 is  torch.float32\n",
            "tensor([1, 2, 3])\n",
            "tensor([1., 2., 3.], dtype=torch.float64)\n"
          ],
          "name": "stdout"
        }
      ]
    },
    {
      "cell_type": "markdown",
      "metadata": {
        "id": "4PcAw_i9L9Do"
      },
      "source": [
        "#### 2. Tensor indexing"
      ]
    },
    {
      "cell_type": "markdown",
      "metadata": {
        "id": "ABVMKUZvMEbg"
      },
      "source": [
        "##### Slice indexing\n"
      ]
    },
    {
      "cell_type": "code",
      "metadata": {
        "id": "UnKytvEsMJJB",
        "outputId": "d8adf59f-1cd9-45a2-8dd3-53346c2a7dd6",
        "colab": {
          "base_uri": "https://localhost:8080/",
          "height": 119
        }
      },
      "source": [
        "X = torch.tensor([1, 2, 3, 4, 5, 6])\n",
        "print(X)\n",
        "print(X[2:4]) \n",
        "print(X[:4])\n",
        "print(X[:])\n",
        "print(X[1:4:2])\n",
        "print(X[:-1])"
      ],
      "execution_count": 15,
      "outputs": [
        {
          "output_type": "stream",
          "text": [
            "tensor([1, 2, 3, 4, 5, 6])\n",
            "tensor([3, 4])\n",
            "tensor([1, 2, 3, 4])\n",
            "tensor([1, 2, 3, 4, 5, 6])\n",
            "tensor([2, 4])\n",
            "tensor([1, 2, 3, 4, 5])\n"
          ],
          "name": "stdout"
        }
      ]
    },
    {
      "cell_type": "code",
      "metadata": {
        "id": "H741lU1hNdSW",
        "outputId": "19ed1785-92ee-4a6a-d5e5-5292b54efd53",
        "colab": {
          "base_uri": "https://localhost:8080/",
          "height": 153
        }
      },
      "source": [
        "Y = torch.tensor([[1, 2, 3], [12, 34, 56], [123, 456, 789]])\n",
        "print(Y)\n",
        "print(Y[1, :]) #second row\n",
        "print(Y[2, :]) #third row\n",
        "print(Y[:, 1]) #second column\n",
        "print(Y[:2, -1:]) #first two rows and last column"
      ],
      "execution_count": 26,
      "outputs": [
        {
          "output_type": "stream",
          "text": [
            "tensor([[  1,   2,   3],\n",
            "        [ 12,  34,  56],\n",
            "        [123, 456, 789]])\n",
            "tensor([12, 34, 56])\n",
            "tensor([123, 456, 789])\n",
            "tensor([  2,  34, 456])\n",
            "tensor([[ 3],\n",
            "        [56]])\n"
          ],
          "name": "stdout"
        }
      ]
    },
    {
      "cell_type": "markdown",
      "metadata": {
        "id": "B4MyPtHYPA_O"
      },
      "source": [
        "There are two ways of accessing a single row (or column) of a tensor."
      ]
    },
    {
      "cell_type": "code",
      "metadata": {
        "id": "WPHD4wesOkit",
        "outputId": "77abaae7-6150-46d9-93b0-fe33e6f17888",
        "colab": {
          "base_uri": "https://localhost:8080/",
          "height": 119
        }
      },
      "source": [
        "row_r1 = Y[1, :]\n",
        "row_r2 = Y[1:2, :]\n",
        "print(row_r1, row_r1.shape)\n",
        "print(row_r2, row_r2.shape)\n",
        "\n",
        "col_r1 = Y[:, 1]\n",
        "col_r2 = Y[:, 1:2]\n",
        "print(col_r1, col_r1.shape)\n",
        "print(col_r2, col_r2.shape)\n"
      ],
      "execution_count": 27,
      "outputs": [
        {
          "output_type": "stream",
          "text": [
            "tensor([12, 34, 56]) torch.Size([3])\n",
            "tensor([[12, 34, 56]]) torch.Size([1, 3])\n",
            "tensor([  2,  34, 456]) torch.Size([3])\n",
            "tensor([[  2],\n",
            "        [ 34],\n",
            "        [456]]) torch.Size([3, 1])\n"
          ],
          "name": "stdout"
        }
      ]
    },
    {
      "cell_type": "markdown",
      "metadata": {
        "id": "SX6FUj-WP_mU"
      },
      "source": [
        "Slicing a tensor returns a view into the same data, so modifying it will also modify the original tensor. To avoid this, you can use the clone() method to make a copy of a tensor."
      ]
    },
    {
      "cell_type": "code",
      "metadata": {
        "id": "_Vh1Q4UuQBBd",
        "outputId": "c521969e-56bc-4a9a-95b7-e312d7fface6",
        "colab": {
          "base_uri": "https://localhost:8080/",
          "height": 85
        }
      },
      "source": [
        "a = Y[0, :2]\n",
        "b = Y[0, :2].clone()\n",
        "print(a)\n",
        "print(b)\n",
        "\n",
        "Y[0, 0] = 10\n",
        "a[1] = 100\n",
        "print(a)\n",
        "print(b)\n",
        "\n"
      ],
      "execution_count": 28,
      "outputs": [
        {
          "output_type": "stream",
          "text": [
            "tensor([1, 2])\n",
            "tensor([1, 2])\n",
            "tensor([ 10, 100])\n",
            "tensor([1, 2])\n"
          ],
          "name": "stdout"
        }
      ]
    },
    {
      "cell_type": "markdown",
      "metadata": {
        "id": "6HdPpCxJRYaO"
      },
      "source": [
        "We can use index arrays to index tensors."
      ]
    },
    {
      "cell_type": "code",
      "metadata": {
        "id": "oVCSdlmBRdgE",
        "outputId": "4c796e0a-a47e-4928-ce54-331ef1f8617e",
        "colab": {
          "base_uri": "https://localhost:8080/",
          "height": 272
        }
      },
      "source": [
        "X = torch.tensor([[1,2,3], [4,5,6], [7,8,9]])\n",
        "print(X)\n",
        "\n",
        "ind = [0,0,0,2,2,1,1,2,0]\n",
        "print(X[ind, :])\n",
        "print(X[:, ind])"
      ],
      "execution_count": 37,
      "outputs": [
        {
          "output_type": "stream",
          "text": [
            "tensor([[1, 2, 3],\n",
            "        [4, 5, 6],\n",
            "        [7, 8, 9]])\n",
            "tensor([[1, 2, 3],\n",
            "        [1, 2, 3],\n",
            "        [1, 2, 3],\n",
            "        [7, 8, 9],\n",
            "        [7, 8, 9],\n",
            "        [4, 5, 6],\n",
            "        [4, 5, 6],\n",
            "        [7, 8, 9],\n",
            "        [1, 2, 3]])\n",
            "tensor([[1, 1, 1, 3, 3, 2, 2, 3, 1],\n",
            "        [4, 4, 4, 6, 6, 5, 5, 6, 4],\n",
            "        [7, 7, 7, 9, 9, 8, 8, 9, 7]])\n"
          ],
          "name": "stdout"
        }
      ]
    },
    {
      "cell_type": "code",
      "metadata": {
        "id": "uBzYFcGVSFAv",
        "outputId": "e112dbb6-f97c-44f1-dd2b-1003b2f48265",
        "colab": {
          "base_uri": "https://localhost:8080/",
          "height": 85
        }
      },
      "source": [
        "ind1 = [0, 1, 2]\n",
        "print(X[ind1, ind1])\n",
        "X[ind1, ind1] = torch.tensor([666, 233, 233])\n",
        "print(X)\n"
      ],
      "execution_count": 36,
      "outputs": [
        {
          "output_type": "stream",
          "text": [
            "tensor([1, 5, 9])\n",
            "tensor([[666,   2,   3],\n",
            "        [  4, 233,   6],\n",
            "        [  7,   8, 233]])\n"
          ],
          "name": "stdout"
        }
      ]
    },
    {
      "cell_type": "markdown",
      "metadata": {
        "id": "uEYDq8EESlMu"
      },
      "source": [
        "##### Boolen tensor indexing"
      ]
    },
    {
      "cell_type": "code",
      "metadata": {
        "id": "Wv5EZfKBSo10",
        "outputId": "fdb061af-4384-438f-e130-ba141dd8890e",
        "colab": {
          "base_uri": "https://localhost:8080/",
          "height": 187
        }
      },
      "source": [
        "X = torch.tensor([[1,2,3], [4,5,6], [7,8,9]])\n",
        "print(X)\n",
        "\n",
        "mask = (X > 5)\n",
        "print(mask)\n",
        "print(X[mask])\n",
        "\n",
        "#change all elements less than or equal to 4 to zero\n",
        "X[X <= 4] = 0\n",
        "print(X)"
      ],
      "execution_count": 40,
      "outputs": [
        {
          "output_type": "stream",
          "text": [
            "tensor([[1, 2, 3],\n",
            "        [4, 5, 6],\n",
            "        [7, 8, 9]])\n",
            "tensor([[False, False, False],\n",
            "        [False, False,  True],\n",
            "        [ True,  True,  True]])\n",
            "tensor([6, 7, 8, 9])\n",
            "tensor([[0, 0, 0],\n",
            "        [0, 5, 6],\n",
            "        [7, 8, 9]])\n"
          ],
          "name": "stdout"
        }
      ]
    },
    {
      "cell_type": "markdown",
      "metadata": {
        "id": "9Hbe6ZzsTNZb"
      },
      "source": [
        "#### 3. Reshaping operations"
      ]
    },
    {
      "cell_type": "code",
      "metadata": {
        "id": "EOVFTQN3TQri",
        "outputId": "32f28c1f-87d9-43f5-905a-9f1a3c208a12",
        "colab": {
          "base_uri": "https://localhost:8080/",
          "height": 187
        }
      },
      "source": [
        "a = torch.tensor([[12, 34], [56, 78]])\n",
        "print(a, a.shape)\n",
        "\n",
        "a1 = a.view(4)\n",
        "print(a1)\n",
        "\n",
        "a2 = a.view(1,4)\n",
        "print(a2)\n",
        "\n",
        "a3 = a.view(4, 1)\n",
        "print(a3)\n",
        "\n",
        "a4 = a.view(2, 2)\n",
        "print(a4)"
      ],
      "execution_count": 45,
      "outputs": [
        {
          "output_type": "stream",
          "text": [
            "tensor([[12, 34],\n",
            "        [56, 78]]) torch.Size([2, 2])\n",
            "tensor([12, 34, 56, 78])\n",
            "tensor([[12, 34, 56, 78]])\n",
            "tensor([[12],\n",
            "        [34],\n",
            "        [56],\n",
            "        [78]])\n",
            "tensor([[12, 34],\n",
            "        [56, 78]])\n"
          ],
          "name": "stdout"
        }
      ]
    },
    {
      "cell_type": "code",
      "metadata": {
        "id": "okfyTCzlU2tU",
        "outputId": "e3637743-d3af-4eb0-b697-18f2fb7a96c3",
        "colab": {
          "base_uri": "https://localhost:8080/",
          "height": 68
        }
      },
      "source": [
        "a5 = a.view(-1, )\n",
        "print(a5)\n",
        "\n",
        "a6 = a.view(-1, 2)\n",
        "print(a6)"
      ],
      "execution_count": 44,
      "outputs": [
        {
          "output_type": "stream",
          "text": [
            "tensor([12, 34, 56, 78])\n",
            "tensor([[12, 34],\n",
            "        [56, 78]])\n"
          ],
          "name": "stdout"
        }
      ]
    },
    {
      "cell_type": "code",
      "metadata": {
        "id": "AvIjQmfzVPyi",
        "outputId": "369b659b-a00d-4d2c-b8f1-c6b0ea500705",
        "colab": {
          "base_uri": "https://localhost:8080/",
          "height": 68
        }
      },
      "source": [
        "a7 = a.view(-1)\n",
        "a[1, 1] = 0\n",
        "a7[2] = 10\n",
        "print(a)\n",
        "print(a7)"
      ],
      "execution_count": 48,
      "outputs": [
        {
          "output_type": "stream",
          "text": [
            "tensor([[12, 34],\n",
            "        [10,  0]])\n",
            "tensor([12, 34, 10,  0])\n"
          ],
          "name": "stdout"
        }
      ]
    },
    {
      "cell_type": "markdown",
      "metadata": {
        "id": "O0Nn3tcpV8j5"
      },
      "source": [
        "##### Swaping axes"
      ]
    },
    {
      "cell_type": "code",
      "metadata": {
        "id": "gU5bHVhiWD4R",
        "outputId": "6ef66bd5-d307-473d-837f-d2561d388a57",
        "colab": {
          "base_uri": "https://localhost:8080/",
          "height": 272
        }
      },
      "source": [
        "X = torch.eye(5)\n",
        "X[4, 0] = 233\n",
        "print(X)\n",
        "\n",
        "print(torch.t(X))\n",
        "print(X.t())"
      ],
      "execution_count": 50,
      "outputs": [
        {
          "output_type": "stream",
          "text": [
            "tensor([[  1.,   0.,   0.,   0.,   0.],\n",
            "        [  0.,   1.,   0.,   0.,   0.],\n",
            "        [  0.,   0.,   1.,   0.,   0.],\n",
            "        [  0.,   0.,   0.,   1.,   0.],\n",
            "        [233.,   0.,   0.,   0.,   1.]])\n",
            "tensor([[  1.,   0.,   0.,   0., 233.],\n",
            "        [  0.,   1.,   0.,   0.,   0.],\n",
            "        [  0.,   0.,   1.,   0.,   0.],\n",
            "        [  0.,   0.,   0.,   1.,   0.],\n",
            "        [  0.,   0.,   0.,   0.,   1.]])\n",
            "tensor([[  1.,   0.,   0.,   0., 233.],\n",
            "        [  0.,   1.,   0.,   0.,   0.],\n",
            "        [  0.,   0.,   1.,   0.,   0.],\n",
            "        [  0.,   0.,   0.,   1.,   0.],\n",
            "        [  0.,   0.,   0.,   0.,   1.]])\n"
          ],
          "name": "stdout"
        }
      ]
    },
    {
      "cell_type": "markdown",
      "metadata": {
        "id": "oneJWUbJXQbw"
      },
      "source": [
        "For tensors with more than two dimensions, we can use the function torch.transpose to swap arbitrary dimensions, or the .permute method to arbitrarily permute dimensions:"
      ]
    },
    {
      "cell_type": "code",
      "metadata": {
        "id": "EewG4UmZXaIk",
        "outputId": "ed9f0120-8ecc-4327-ce14-f978ddf7d3a1",
        "colab": {
          "base_uri": "https://localhost:8080/",
          "height": 357
        }
      },
      "source": [
        "X = torch.tensor([\n",
        "                  [\n",
        "                   [1,2], [3,4], [5,6]\n",
        "                  ],\n",
        "                  [\n",
        "                   [11, 22], [33, 44], [55, 66]\n",
        "                  ]\n",
        "])\n",
        "print(X, X.shape)\n",
        "\n",
        "X1 = X.transpose(1, 2)\n",
        "print(X1, X1.shape)\n",
        "\n",
        "X2 = X.permute(1, 2, 0)\n",
        "print(X2, X2.shape)"
      ],
      "execution_count": 54,
      "outputs": [
        {
          "output_type": "stream",
          "text": [
            "tensor([[[ 1,  2],\n",
            "         [ 3,  4],\n",
            "         [ 5,  6]],\n",
            "\n",
            "        [[11, 22],\n",
            "         [33, 44],\n",
            "         [55, 66]]]) torch.Size([2, 3, 2])\n",
            "tensor([[[ 1,  3,  5],\n",
            "         [ 2,  4,  6]],\n",
            "\n",
            "        [[11, 33, 55],\n",
            "         [22, 44, 66]]]) torch.Size([2, 2, 3])\n",
            "tensor([[[ 1, 11],\n",
            "         [ 2, 22]],\n",
            "\n",
            "        [[ 3, 33],\n",
            "         [ 4, 44]],\n",
            "\n",
            "        [[ 5, 55],\n",
            "         [ 6, 66]]]) torch.Size([3, 2, 2])\n"
          ],
          "name": "stdout"
        }
      ]
    },
    {
      "cell_type": "markdown",
      "metadata": {
        "id": "L4i_3VIYZZhT"
      },
      "source": [
        "#### 4. tensor operations"
      ]
    },
    {
      "cell_type": "code",
      "metadata": {
        "id": "628F1cUkZicS",
        "outputId": "52f8ba9f-79ae-479e-e8b1-9210794c6901",
        "colab": {
          "base_uri": "https://localhost:8080/",
          "height": 1000
        }
      },
      "source": [
        "# Some basic tensor operations\n",
        "A = torch.tensor([[1, 2, 3], [4, 5, 6], [7, 8, 9]])\n",
        "B = torch.tensor([[0, 0, 1], [0, 1, 0], [1, 0, 0]])\n",
        "print(A)\n",
        "print(B)\n",
        "\n",
        "# elementwise addition of tensor\n",
        "print(A+B)\n",
        "print(torch.add(A, B))\n",
        "print(A.add(B))\n",
        "\n",
        "# elementwise subtraction of tensor\n",
        "print(A-B)\n",
        "print(torch.sub(A, B))\n",
        "print(A.sub(B))\n",
        "\n",
        "# elementwise product of tensor\n",
        "print(A * B)\n",
        "print(torch.mul(A, B))\n",
        "print(A.mul(B))\n",
        "\n",
        "\n",
        "# elementwise power of tensor\n",
        "print(A ** B)\n",
        "print(torch.pow(A, B))\n",
        "print(A.pow(B))\n",
        "\n",
        "# Some other operations\n",
        "A = torch.tensor([[1, 2, 3], [4, 5, 6], [7, 8, 9]], dtype=torch.float32)\n",
        "print(torch.log(A))\n",
        "print(torch.sin(A))\n",
        "print(torch.sinh(A))\n",
        "print(torch.sqrt(A))\n",
        "print(torch.square(A))\n",
        "print(torch.inverse(A))\n"
      ],
      "execution_count": 8,
      "outputs": [
        {
          "output_type": "stream",
          "text": [
            "tensor([[1, 2, 3],\n",
            "        [4, 5, 6],\n",
            "        [7, 8, 9]])\n",
            "tensor([[0, 0, 1],\n",
            "        [0, 1, 0],\n",
            "        [1, 0, 0]])\n",
            "tensor([[1, 2, 4],\n",
            "        [4, 6, 6],\n",
            "        [8, 8, 9]])\n",
            "tensor([[1, 2, 4],\n",
            "        [4, 6, 6],\n",
            "        [8, 8, 9]])\n",
            "tensor([[1, 2, 4],\n",
            "        [4, 6, 6],\n",
            "        [8, 8, 9]])\n",
            "tensor([[1, 2, 2],\n",
            "        [4, 4, 6],\n",
            "        [6, 8, 9]])\n",
            "tensor([[1, 2, 2],\n",
            "        [4, 4, 6],\n",
            "        [6, 8, 9]])\n",
            "tensor([[1, 2, 2],\n",
            "        [4, 4, 6],\n",
            "        [6, 8, 9]])\n",
            "tensor([[0, 0, 3],\n",
            "        [0, 5, 0],\n",
            "        [7, 0, 0]])\n",
            "tensor([[0, 0, 3],\n",
            "        [0, 5, 0],\n",
            "        [7, 0, 0]])\n",
            "tensor([[0, 0, 3],\n",
            "        [0, 5, 0],\n",
            "        [7, 0, 0]])\n",
            "tensor([[1, 1, 3],\n",
            "        [1, 5, 1],\n",
            "        [7, 1, 1]])\n",
            "tensor([[1, 1, 3],\n",
            "        [1, 5, 1],\n",
            "        [7, 1, 1]])\n",
            "tensor([[1, 1, 3],\n",
            "        [1, 5, 1],\n",
            "        [7, 1, 1]])\n",
            "tensor([[0.0000, 0.6931, 1.0986],\n",
            "        [1.3863, 1.6094, 1.7918],\n",
            "        [1.9459, 2.0794, 2.1972]])\n",
            "tensor([[ 0.8415,  0.9093,  0.1411],\n",
            "        [-0.7568, -0.9589, -0.2794],\n",
            "        [ 0.6570,  0.9894,  0.4121]])\n",
            "tensor([[1.1752e+00, 3.6269e+00, 1.0018e+01],\n",
            "        [2.7290e+01, 7.4203e+01, 2.0171e+02],\n",
            "        [5.4832e+02, 1.4905e+03, 4.0515e+03]])\n",
            "tensor([[1.0000, 1.4142, 1.7321],\n",
            "        [2.0000, 2.2361, 2.4495],\n",
            "        [2.6458, 2.8284, 3.0000]])\n",
            "tensor([[ 1.,  4.,  9.],\n",
            "        [16., 25., 36.],\n",
            "        [49., 64., 81.]])\n",
            "tensor([[ -2796203.0000,   5592406.0000,  -2796203.0000],\n",
            "        [  5592404.5000, -11184812.0000,   5592406.5000],\n",
            "        [ -2796201.7500,   5592406.0000,  -2796203.2500]])\n"
          ],
          "name": "stdout"
        }
      ]
    },
    {
      "cell_type": "markdown",
      "metadata": {
        "id": "K9L4bULjcbOd"
      },
      "source": [
        "Reduction operations"
      ]
    },
    {
      "cell_type": "code",
      "metadata": {
        "id": "McaxcMkVceY-",
        "outputId": "0f29dbb2-f4dd-4328-9025-d452d6241c1e",
        "colab": {
          "base_uri": "https://localhost:8080/",
          "height": 238
        }
      },
      "source": [
        "print(A)\n",
        "print(A.sum())\n",
        "print(torch.sum(A))\n",
        "\n",
        "# sum over row\n",
        "print(A.sum(dim=1))\n",
        "print(torch.sum(A, dim=1))\n",
        "#sum over column\n",
        "print(A.sum(dim=0))\n",
        "print(torch.sum(A, dim=0))\n",
        "\n",
        "# mean over row\n",
        "print(A.mean(dim=1))\n",
        "print(torch.mean(A, dim=1))\n",
        "# mean over column\n",
        "print(A.mean(dim=0))\n",
        "print(torch.mean(A, dim=0))"
      ],
      "execution_count": 9,
      "outputs": [
        {
          "output_type": "stream",
          "text": [
            "tensor([[1., 2., 3.],\n",
            "        [4., 5., 6.],\n",
            "        [7., 8., 9.]])\n",
            "tensor(45.)\n",
            "tensor(45.)\n",
            "tensor([ 6., 15., 24.])\n",
            "tensor([ 6., 15., 24.])\n",
            "tensor([12., 15., 18.])\n",
            "tensor([12., 15., 18.])\n",
            "tensor([2., 5., 8.])\n",
            "tensor([2., 5., 8.])\n",
            "tensor([4., 5., 6.])\n",
            "tensor([4., 5., 6.])\n"
          ],
          "name": "stdout"
        }
      ]
    },
    {
      "cell_type": "code",
      "metadata": {
        "id": "fnzBg5aFd33Y",
        "outputId": "0309df9e-25d0-4171-d8ba-77ab2b4fc3da",
        "colab": {
          "base_uri": "https://localhost:8080/",
          "height": 68
        }
      },
      "source": [
        "a = torch.randn(6, 7, 8, 9)\n",
        "print(a.shape)\n",
        "\n",
        "a1 = torch.mean(a, dim=1)\n",
        "print(a1.shape)\n",
        "\n",
        "a2 = torch.mean(a, dim = 3)\n",
        "print(a2.shape)"
      ],
      "execution_count": 5,
      "outputs": [
        {
          "output_type": "stream",
          "text": [
            "torch.Size([6, 7, 8, 9])\n",
            "torch.Size([6, 8, 9])\n",
            "torch.Size([6, 7, 8])\n"
          ],
          "name": "stdout"
        }
      ]
    },
    {
      "cell_type": "markdown",
      "metadata": {
        "id": "nkIFs4SmetKI"
      },
      "source": [
        "##### Matrix operations"
      ]
    },
    {
      "cell_type": "code",
      "metadata": {
        "id": "meatRF0jevoc",
        "outputId": "a9623071-e011-4fc5-9d20-ef3c3d8cd3d3",
        "colab": {
          "base_uri": "https://localhost:8080/",
          "height": 119
        }
      },
      "source": [
        "a = torch.tensor([1., 2., 3.])\n",
        "b = torch.tensor([1., 2., 3.])\n",
        "\n",
        "print(torch.dot(a, b))\n",
        "print(a.dot(b))\n",
        "\n",
        "A = torch.tensor([[1,2,3],[4,5,6],[7,8,9]], dtype=torch.float32)\n",
        "B = torch.eye(3, dtype=torch.float32)\n",
        "print(torch.mm(A, B))\n",
        "\n",
        "print(torch.mv(A, a))"
      ],
      "execution_count": 13,
      "outputs": [
        {
          "output_type": "stream",
          "text": [
            "tensor(14.)\n",
            "tensor(14.)\n",
            "tensor([[1., 2., 3.],\n",
            "        [4., 5., 6.],\n",
            "        [7., 8., 9.]])\n",
            "tensor([14., 32., 50.])\n"
          ],
          "name": "stdout"
        }
      ]
    },
    {
      "cell_type": "markdown",
      "metadata": {
        "id": "ei8O-Qvof-rE"
      },
      "source": [
        "#### 5. Broadcasting"
      ]
    },
    {
      "cell_type": "code",
      "metadata": {
        "id": "JYFRQkrHg3hz",
        "outputId": "2631ffce-6a41-45bb-8b83-ac8dd5e2c7ab",
        "colab": {
          "base_uri": "https://localhost:8080/",
          "height": 221
        }
      },
      "source": [
        "a = torch.tensor([1, 233, 10])\n",
        "# stack 4 copies of a on top of each other\n",
        "print(a.repeat(4, 1))\n",
        "print(a.repeat(4, 2))\n",
        "print(a.repeat(4, 3))"
      ],
      "execution_count": 17,
      "outputs": [
        {
          "output_type": "stream",
          "text": [
            "tensor([[  1, 233,  10],\n",
            "        [  1, 233,  10],\n",
            "        [  1, 233,  10],\n",
            "        [  1, 233,  10]])\n",
            "tensor([[  1, 233,  10,   1, 233,  10],\n",
            "        [  1, 233,  10,   1, 233,  10],\n",
            "        [  1, 233,  10,   1, 233,  10],\n",
            "        [  1, 233,  10,   1, 233,  10]])\n",
            "tensor([[  1, 233,  10,   1, 233,  10,   1, 233,  10],\n",
            "        [  1, 233,  10,   1, 233,  10,   1, 233,  10],\n",
            "        [  1, 233,  10,   1, 233,  10,   1, 233,  10],\n",
            "        [  1, 233,  10,   1, 233,  10,   1, 233,  10]])\n"
          ],
          "name": "stdout"
        }
      ]
    },
    {
      "cell_type": "code",
      "metadata": {
        "id": "_iQlk8FdhJgd",
        "outputId": "cd048e49-0647-463b-83f4-94b29417f84f",
        "colab": {
          "base_uri": "https://localhost:8080/",
          "height": 153
        }
      },
      "source": [
        "# use broadcasting\n",
        "x = torch.tensor([[1,2,3], [4,5,6], [7,8,9], [10,11,12]])\n",
        "print(x + a)\n",
        "print(x + a.repeat(4, 1))\n",
        "# these two ways should give the same results\n",
        "\n",
        "# b = torch.tensor([1, 2])\n",
        "# print(x + b)\n",
        "# this cannot be done because of the shape is not the same"
      ],
      "execution_count": 20,
      "outputs": [
        {
          "output_type": "stream",
          "text": [
            "tensor([[  2, 235,  13],\n",
            "        [  5, 238,  16],\n",
            "        [  8, 241,  19],\n",
            "        [ 11, 244,  22]])\n",
            "tensor([[  2, 235,  13],\n",
            "        [  5, 238,  16],\n",
            "        [  8, 241,  19],\n",
            "        [ 11, 244,  22]])\n"
          ],
          "name": "stdout"
        }
      ]
    }
  ]
}